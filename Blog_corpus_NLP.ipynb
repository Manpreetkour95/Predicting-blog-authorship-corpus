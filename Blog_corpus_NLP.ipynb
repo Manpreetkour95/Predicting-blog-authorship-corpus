{
 "cells": [
  {
   "cell_type": "markdown",
   "metadata": {},
   "source": [
    "## Import Libraries"
   ]
  },
  {
   "cell_type": "code",
   "execution_count": 1,
   "metadata": {},
   "outputs": [
    {
     "name": "stderr",
     "output_type": "stream",
     "text": [
      "C:\\Users\\vikra\\anaconda3\\envs\\myenv\\lib\\site-packages\\sklearn\\feature_extraction\\text.py:17: DeprecationWarning: Using or importing the ABCs from 'collections' instead of from 'collections.abc' is deprecated since Python 3.3,and in 3.9 it will stop working\n",
      "  from collections import Mapping, defaultdict\n"
     ]
    }
   ],
   "source": [
    "import pandas as pd\n",
    "import re\n",
    "from nltk.corpus import stopwords\n",
    "from sklearn.feature_extraction.text import CountVectorizer\n",
    "from sklearn.model_selection import train_test_split\n",
    "from nltk.stem.snowball import SnowballStemmer\n",
    "import warnings\n",
    "warnings.filterwarnings('ignore')\n",
    "#import pandas_profiling as pp\n",
    "import seaborn as sns\n",
    "import matplotlib as plt\n",
    "from matplotlib.pyplot import figure\n",
    "%matplotlib inline\n",
    "import re\n",
    "import os\n",
    "import pandas as pd\n",
    "import pickle, joblib\n",
    "from sklearn.svm import SVC, NuSVC, LinearSVC\n",
    "from sklearn.ensemble import RandomForestClassifier\n",
    "from sklearn.model_selection import train_test_split\n",
    "from sklearn.naive_bayes import MultinomialNB, BernoulliNB\n",
    "from sklearn.linear_model import LogisticRegression, SGDClassifier\n",
    "from sklearn.feature_extraction.text import TfidfVectorizer, CountVectorizer"
   ]
  },
  {
   "cell_type": "code",
   "execution_count": 2,
   "metadata": {},
   "outputs": [
    {
     "name": "stderr",
     "output_type": "stream",
     "text": [
      "[nltk_data] Error loading stopwords: <urlopen error [Errno 11001]\n",
      "[nltk_data]     getaddrinfo failed>\n"
     ]
    },
    {
     "data": {
      "text/plain": [
       "False"
      ]
     },
     "execution_count": 2,
     "metadata": {},
     "output_type": "execute_result"
    }
   ],
   "source": [
    "\n",
    "import codecs\n",
    "import pandas as pd\n",
    "import requests, zipfile, io\n",
    "from nltk.corpus import stopwords\n",
    "#from bs4 import BeautifulSoup\n",
    "import nltk\n",
    "nltk.download('stopwords')"
   ]
  },
  {
   "cell_type": "code",
   "execution_count": 4,
   "metadata": {},
   "outputs": [],
   "source": [
    "#load the full set of the data\n",
    "df = pd.read_csv(\"blogtext.csv\",nrows=10000)"
   ]
  },
  {
   "cell_type": "code",
   "execution_count": 5,
   "metadata": {},
   "outputs": [
    {
     "data": {
      "text/html": [
       "<div>\n",
       "<style scoped>\n",
       "    .dataframe tbody tr th:only-of-type {\n",
       "        vertical-align: middle;\n",
       "    }\n",
       "\n",
       "    .dataframe tbody tr th {\n",
       "        vertical-align: top;\n",
       "    }\n",
       "\n",
       "    .dataframe thead th {\n",
       "        text-align: right;\n",
       "    }\n",
       "</style>\n",
       "<table border=\"1\" class=\"dataframe\">\n",
       "  <thead>\n",
       "    <tr style=\"text-align: right;\">\n",
       "      <th></th>\n",
       "      <th>id</th>\n",
       "      <th>gender</th>\n",
       "      <th>age</th>\n",
       "      <th>topic</th>\n",
       "      <th>sign</th>\n",
       "      <th>date</th>\n",
       "      <th>text</th>\n",
       "    </tr>\n",
       "  </thead>\n",
       "  <tbody>\n",
       "    <tr>\n",
       "      <th>0</th>\n",
       "      <td>2059027</td>\n",
       "      <td>male</td>\n",
       "      <td>15</td>\n",
       "      <td>Student</td>\n",
       "      <td>Leo</td>\n",
       "      <td>14,May,2004</td>\n",
       "      <td>Info has been found (+/- 100 pages,...</td>\n",
       "    </tr>\n",
       "    <tr>\n",
       "      <th>1</th>\n",
       "      <td>2059027</td>\n",
       "      <td>male</td>\n",
       "      <td>15</td>\n",
       "      <td>Student</td>\n",
       "      <td>Leo</td>\n",
       "      <td>13,May,2004</td>\n",
       "      <td>These are the team members:   Drewe...</td>\n",
       "    </tr>\n",
       "    <tr>\n",
       "      <th>2</th>\n",
       "      <td>2059027</td>\n",
       "      <td>male</td>\n",
       "      <td>15</td>\n",
       "      <td>Student</td>\n",
       "      <td>Leo</td>\n",
       "      <td>12,May,2004</td>\n",
       "      <td>In het kader van kernfusie op aarde...</td>\n",
       "    </tr>\n",
       "    <tr>\n",
       "      <th>3</th>\n",
       "      <td>2059027</td>\n",
       "      <td>male</td>\n",
       "      <td>15</td>\n",
       "      <td>Student</td>\n",
       "      <td>Leo</td>\n",
       "      <td>12,May,2004</td>\n",
       "      <td>testing!!!  testing!!!</td>\n",
       "    </tr>\n",
       "    <tr>\n",
       "      <th>4</th>\n",
       "      <td>3581210</td>\n",
       "      <td>male</td>\n",
       "      <td>33</td>\n",
       "      <td>InvestmentBanking</td>\n",
       "      <td>Aquarius</td>\n",
       "      <td>11,June,2004</td>\n",
       "      <td>Thanks to Yahoo!'s Toolbar I can ...</td>\n",
       "    </tr>\n",
       "    <tr>\n",
       "      <th>...</th>\n",
       "      <td>...</td>\n",
       "      <td>...</td>\n",
       "      <td>...</td>\n",
       "      <td>...</td>\n",
       "      <td>...</td>\n",
       "      <td>...</td>\n",
       "      <td>...</td>\n",
       "    </tr>\n",
       "    <tr>\n",
       "      <th>9995</th>\n",
       "      <td>1705136</td>\n",
       "      <td>female</td>\n",
       "      <td>25</td>\n",
       "      <td>indUnk</td>\n",
       "      <td>Pisces</td>\n",
       "      <td>19,May,2004</td>\n",
       "      <td>take me home with you forever where I ...</td>\n",
       "    </tr>\n",
       "    <tr>\n",
       "      <th>9996</th>\n",
       "      <td>1705136</td>\n",
       "      <td>female</td>\n",
       "      <td>25</td>\n",
       "      <td>indUnk</td>\n",
       "      <td>Pisces</td>\n",
       "      <td>23,June,2004</td>\n",
       "      <td>seductive secretness behind doors warn...</td>\n",
       "    </tr>\n",
       "    <tr>\n",
       "      <th>9997</th>\n",
       "      <td>1705136</td>\n",
       "      <td>female</td>\n",
       "      <td>25</td>\n",
       "      <td>indUnk</td>\n",
       "      <td>Pisces</td>\n",
       "      <td>21,June,2004</td>\n",
       "      <td>For being so kind to me when I need yo...</td>\n",
       "    </tr>\n",
       "    <tr>\n",
       "      <th>9998</th>\n",
       "      <td>1705136</td>\n",
       "      <td>female</td>\n",
       "      <td>25</td>\n",
       "      <td>indUnk</td>\n",
       "      <td>Pisces</td>\n",
       "      <td>09,June,2004</td>\n",
       "      <td>blurry outside sounds as people mingle...</td>\n",
       "    </tr>\n",
       "    <tr>\n",
       "      <th>9999</th>\n",
       "      <td>1705136</td>\n",
       "      <td>female</td>\n",
       "      <td>25</td>\n",
       "      <td>indUnk</td>\n",
       "      <td>Pisces</td>\n",
       "      <td>07,June,2004</td>\n",
       "      <td>my body feels broken while my mind rej...</td>\n",
       "    </tr>\n",
       "  </tbody>\n",
       "</table>\n",
       "<p>10000 rows × 7 columns</p>\n",
       "</div>"
      ],
      "text/plain": [
       "           id  gender  age              topic      sign          date  \\\n",
       "0     2059027    male   15            Student       Leo   14,May,2004   \n",
       "1     2059027    male   15            Student       Leo   13,May,2004   \n",
       "2     2059027    male   15            Student       Leo   12,May,2004   \n",
       "3     2059027    male   15            Student       Leo   12,May,2004   \n",
       "4     3581210    male   33  InvestmentBanking  Aquarius  11,June,2004   \n",
       "...       ...     ...  ...                ...       ...           ...   \n",
       "9995  1705136  female   25             indUnk    Pisces   19,May,2004   \n",
       "9996  1705136  female   25             indUnk    Pisces  23,June,2004   \n",
       "9997  1705136  female   25             indUnk    Pisces  21,June,2004   \n",
       "9998  1705136  female   25             indUnk    Pisces  09,June,2004   \n",
       "9999  1705136  female   25             indUnk    Pisces  07,June,2004   \n",
       "\n",
       "                                                   text  \n",
       "0                Info has been found (+/- 100 pages,...  \n",
       "1                These are the team members:   Drewe...  \n",
       "2                In het kader van kernfusie op aarde...  \n",
       "3                      testing!!!  testing!!!            \n",
       "4                  Thanks to Yahoo!'s Toolbar I can ...  \n",
       "...                                                 ...  \n",
       "9995          take me home with you forever where I ...  \n",
       "9996          seductive secretness behind doors warn...  \n",
       "9997          For being so kind to me when I need yo...  \n",
       "9998          blurry outside sounds as people mingle...  \n",
       "9999          my body feels broken while my mind rej...  \n",
       "\n",
       "[10000 rows x 7 columns]"
      ]
     },
     "execution_count": 5,
     "metadata": {},
     "output_type": "execute_result"
    }
   ],
   "source": [
    "df"
   ]
  },
  {
   "cell_type": "code",
   "execution_count": 6,
   "metadata": {},
   "outputs": [
    {
     "data": {
      "text/plain": [
       "(10000, 7)"
      ]
     },
     "execution_count": 6,
     "metadata": {},
     "output_type": "execute_result"
    }
   ],
   "source": [
    "df.shape"
   ]
  },
  {
   "cell_type": "code",
   "execution_count": 7,
   "metadata": {},
   "outputs": [
    {
     "name": "stdout",
     "output_type": "stream",
     "text": [
      "<class 'pandas.core.frame.DataFrame'>\n",
      "RangeIndex: 10000 entries, 0 to 9999\n",
      "Data columns (total 7 columns):\n",
      " #   Column  Non-Null Count  Dtype \n",
      "---  ------  --------------  ----- \n",
      " 0   id      10000 non-null  int64 \n",
      " 1   gender  10000 non-null  object\n",
      " 2   age     10000 non-null  int64 \n",
      " 3   topic   10000 non-null  object\n",
      " 4   sign    10000 non-null  object\n",
      " 5   date    10000 non-null  object\n",
      " 6   text    10000 non-null  object\n",
      "dtypes: int64(2), object(5)\n",
      "memory usage: 547.0+ KB\n"
     ]
    }
   ],
   "source": [
    "df.info()"
   ]
  },
  {
   "cell_type": "code",
   "execution_count": 8,
   "metadata": {},
   "outputs": [
    {
     "data": {
      "text/plain": [
       "id        0\n",
       "gender    0\n",
       "age       0\n",
       "topic     0\n",
       "sign      0\n",
       "date      0\n",
       "text      0\n",
       "dtype: int64"
      ]
     },
     "execution_count": 8,
     "metadata": {},
     "output_type": "execute_result"
    }
   ],
   "source": [
    "df.isnull().sum()"
   ]
  },
  {
   "cell_type": "code",
   "execution_count": null,
   "metadata": {},
   "outputs": [],
   "source": []
  },
  {
   "cell_type": "code",
   "execution_count": 9,
   "metadata": {},
   "outputs": [
    {
     "data": {
      "text/plain": [
       "count    10000.000000\n",
       "mean        28.019300\n",
       "std          8.123923\n",
       "min         13.000000\n",
       "25%         23.000000\n",
       "50%         27.000000\n",
       "75%         35.000000\n",
       "max         46.000000\n",
       "Name: age, dtype: float64"
      ]
     },
     "execution_count": 9,
     "metadata": {},
     "output_type": "execute_result"
    }
   ],
   "source": [
    "df['age'].describe()"
   ]
  },
  {
   "cell_type": "code",
   "execution_count": 10,
   "metadata": {},
   "outputs": [
    {
     "data": {
      "text/plain": [
       "<matplotlib.axes._subplots.AxesSubplot at 0x2a07c456388>"
      ]
     },
     "execution_count": 10,
     "metadata": {},
     "output_type": "execute_result"
    },
    {
     "data": {
      "image/png": "[encoded data removed]",
      "text/plain": [
       "<Figure size 432x288 with 1 Axes>"
      ]
     },
     "metadata": {
      "needs_background": "light"
     },
     "output_type": "display_data"
    }
   ],
   "source": [
    "#plt.figure(figsize=(20,6))\n",
    "#plt.title('Age')\n",
    "sns.distplot(df['age'],color='green')\n",
    "\n"
   ]
  },
  {
   "cell_type": "markdown",
   "metadata": {},
   "source": [
    "Distribution of age is not normal. Mean age is 28 and maximum age is 46. Three peaks can be seen in the distribution."
   ]
  },
  {
   "cell_type": "code",
   "execution_count": 11,
   "metadata": {},
   "outputs": [
    {
     "data": {
      "text/plain": [
       "male      5916\n",
       "female    4084\n",
       "Name: gender, dtype: int64"
      ]
     },
     "execution_count": 11,
     "metadata": {},
     "output_type": "execute_result"
    }
   ],
   "source": [
    "df.gender.value_counts()"
   ]
  },
  {
   "cell_type": "code",
   "execution_count": 12,
   "metadata": {},
   "outputs": [
    {
     "data": {
      "text/plain": [
       "<matplotlib.axes._subplots.AxesSubplot at 0x2a038311ac8>"
      ]
     },
     "execution_count": 12,
     "metadata": {},
     "output_type": "execute_result"
    },
    {
     "data": {
      "image/png": "[encoded data removed]",
      "text/plain": [
       "<Figure size 432x288 with 1 Axes>"
      ]
     },
     "metadata": {
      "needs_background": "light"
     },
     "output_type": "display_data"
    }
   ],
   "source": [
    "sns.countplot(x='gender',data=df)"
   ]
  },
  {
   "cell_type": "markdown",
   "metadata": {},
   "source": [
    "No. of males are more than females."
   ]
  },
  {
   "cell_type": "code",
   "execution_count": 13,
   "metadata": {},
   "outputs": [
    {
     "data": {
      "text/plain": [
       "array(['Leo', 'Aquarius', 'Aries', 'Capricorn', 'Gemini', 'Cancer',\n",
       "       'Sagittarius', 'Scorpio', 'Libra', 'Virgo', 'Taurus', 'Pisces'],\n",
       "      dtype=object)"
      ]
     },
     "execution_count": 13,
     "metadata": {},
     "output_type": "execute_result"
    }
   ],
   "source": [
    "df['sign'].unique()"
   ]
  },
  {
   "cell_type": "code",
   "execution_count": 14,
   "metadata": {},
   "outputs": [
    {
     "data": {
      "text/plain": [
       "<matplotlib.axes._subplots.AxesSubplot at 0x2a038351b08>"
      ]
     },
     "execution_count": 14,
     "metadata": {},
     "output_type": "execute_result"
    },
    {
     "data": {
      "image/png": "[encoded data removed]",
      "text/plain": [
       "<Figure size 960x320 with 1 Axes>"
      ]
     },
     "metadata": {
      "needs_background": "light"
     },
     "output_type": "display_data"
    }
   ],
   "source": [
    "figure(figsize=(12, 4), dpi=80)\n",
    "sns.countplot(x='sign',data=df)"
   ]
  },
  {
   "cell_type": "markdown",
   "metadata": {},
   "source": [
    "Aries sign is highest in number."
   ]
  },
  {
   "cell_type": "code",
   "execution_count": 15,
   "metadata": {},
   "outputs": [
    {
     "data": {
      "text/html": [
       "<div>\n",
       "<style scoped>\n",
       "    .dataframe tbody tr th:only-of-type {\n",
       "        vertical-align: middle;\n",
       "    }\n",
       "\n",
       "    .dataframe tbody tr th {\n",
       "        vertical-align: top;\n",
       "    }\n",
       "\n",
       "    .dataframe thead th {\n",
       "        text-align: right;\n",
       "    }\n",
       "</style>\n",
       "<table border=\"1\" class=\"dataframe\">\n",
       "  <thead>\n",
       "    <tr style=\"text-align: right;\">\n",
       "      <th></th>\n",
       "      <th>id</th>\n",
       "      <th>gender</th>\n",
       "      <th>age</th>\n",
       "      <th>topic</th>\n",
       "      <th>sign</th>\n",
       "      <th>date</th>\n",
       "      <th>text</th>\n",
       "    </tr>\n",
       "  </thead>\n",
       "  <tbody>\n",
       "    <tr>\n",
       "      <th>0</th>\n",
       "      <td>2059027</td>\n",
       "      <td>male</td>\n",
       "      <td>15</td>\n",
       "      <td>Student</td>\n",
       "      <td>Leo</td>\n",
       "      <td>14,May,2004</td>\n",
       "      <td>Info has been found (+/- 100 pages,...</td>\n",
       "    </tr>\n",
       "    <tr>\n",
       "      <th>1</th>\n",
       "      <td>2059027</td>\n",
       "      <td>male</td>\n",
       "      <td>15</td>\n",
       "      <td>Student</td>\n",
       "      <td>Leo</td>\n",
       "      <td>13,May,2004</td>\n",
       "      <td>These are the team members:   Drewe...</td>\n",
       "    </tr>\n",
       "    <tr>\n",
       "      <th>2</th>\n",
       "      <td>2059027</td>\n",
       "      <td>male</td>\n",
       "      <td>15</td>\n",
       "      <td>Student</td>\n",
       "      <td>Leo</td>\n",
       "      <td>12,May,2004</td>\n",
       "      <td>In het kader van kernfusie op aarde...</td>\n",
       "    </tr>\n",
       "    <tr>\n",
       "      <th>3</th>\n",
       "      <td>2059027</td>\n",
       "      <td>male</td>\n",
       "      <td>15</td>\n",
       "      <td>Student</td>\n",
       "      <td>Leo</td>\n",
       "      <td>12,May,2004</td>\n",
       "      <td>testing!!!  testing!!!</td>\n",
       "    </tr>\n",
       "    <tr>\n",
       "      <th>4</th>\n",
       "      <td>3581210</td>\n",
       "      <td>male</td>\n",
       "      <td>33</td>\n",
       "      <td>InvestmentBanking</td>\n",
       "      <td>Aquarius</td>\n",
       "      <td>11,June,2004</td>\n",
       "      <td>Thanks to Yahoo!'s Toolbar I can ...</td>\n",
       "    </tr>\n",
       "    <tr>\n",
       "      <th>...</th>\n",
       "      <td>...</td>\n",
       "      <td>...</td>\n",
       "      <td>...</td>\n",
       "      <td>...</td>\n",
       "      <td>...</td>\n",
       "      <td>...</td>\n",
       "      <td>...</td>\n",
       "    </tr>\n",
       "    <tr>\n",
       "      <th>9995</th>\n",
       "      <td>1705136</td>\n",
       "      <td>female</td>\n",
       "      <td>25</td>\n",
       "      <td>indUnk</td>\n",
       "      <td>Pisces</td>\n",
       "      <td>19,May,2004</td>\n",
       "      <td>take me home with you forever where I ...</td>\n",
       "    </tr>\n",
       "    <tr>\n",
       "      <th>9996</th>\n",
       "      <td>1705136</td>\n",
       "      <td>female</td>\n",
       "      <td>25</td>\n",
       "      <td>indUnk</td>\n",
       "      <td>Pisces</td>\n",
       "      <td>23,June,2004</td>\n",
       "      <td>seductive secretness behind doors warn...</td>\n",
       "    </tr>\n",
       "    <tr>\n",
       "      <th>9997</th>\n",
       "      <td>1705136</td>\n",
       "      <td>female</td>\n",
       "      <td>25</td>\n",
       "      <td>indUnk</td>\n",
       "      <td>Pisces</td>\n",
       "      <td>21,June,2004</td>\n",
       "      <td>For being so kind to me when I need yo...</td>\n",
       "    </tr>\n",
       "    <tr>\n",
       "      <th>9998</th>\n",
       "      <td>1705136</td>\n",
       "      <td>female</td>\n",
       "      <td>25</td>\n",
       "      <td>indUnk</td>\n",
       "      <td>Pisces</td>\n",
       "      <td>09,June,2004</td>\n",
       "      <td>blurry outside sounds as people mingle...</td>\n",
       "    </tr>\n",
       "    <tr>\n",
       "      <th>9999</th>\n",
       "      <td>1705136</td>\n",
       "      <td>female</td>\n",
       "      <td>25</td>\n",
       "      <td>indUnk</td>\n",
       "      <td>Pisces</td>\n",
       "      <td>07,June,2004</td>\n",
       "      <td>my body feels broken while my mind rej...</td>\n",
       "    </tr>\n",
       "  </tbody>\n",
       "</table>\n",
       "<p>10000 rows × 7 columns</p>\n",
       "</div>"
      ],
      "text/plain": [
       "           id  gender  age              topic      sign          date  \\\n",
       "0     2059027    male   15            Student       Leo   14,May,2004   \n",
       "1     2059027    male   15            Student       Leo   13,May,2004   \n",
       "2     2059027    male   15            Student       Leo   12,May,2004   \n",
       "3     2059027    male   15            Student       Leo   12,May,2004   \n",
       "4     3581210    male   33  InvestmentBanking  Aquarius  11,June,2004   \n",
       "...       ...     ...  ...                ...       ...           ...   \n",
       "9995  1705136  female   25             indUnk    Pisces   19,May,2004   \n",
       "9996  1705136  female   25             indUnk    Pisces  23,June,2004   \n",
       "9997  1705136  female   25             indUnk    Pisces  21,June,2004   \n",
       "9998  1705136  female   25             indUnk    Pisces  09,June,2004   \n",
       "9999  1705136  female   25             indUnk    Pisces  07,June,2004   \n",
       "\n",
       "                                                   text  \n",
       "0                Info has been found (+/- 100 pages,...  \n",
       "1                These are the team members:   Drewe...  \n",
       "2                In het kader van kernfusie op aarde...  \n",
       "3                      testing!!!  testing!!!            \n",
       "4                  Thanks to Yahoo!'s Toolbar I can ...  \n",
       "...                                                 ...  \n",
       "9995          take me home with you forever where I ...  \n",
       "9996          seductive secretness behind doors warn...  \n",
       "9997          For being so kind to me when I need yo...  \n",
       "9998          blurry outside sounds as people mingle...  \n",
       "9999          my body feels broken while my mind rej...  \n",
       "\n",
       "[10000 rows x 7 columns]"
      ]
     },
     "execution_count": 15,
     "metadata": {},
     "output_type": "execute_result"
    }
   ],
   "source": [
    "df"
   ]
  },
  {
   "cell_type": "code",
   "execution_count": 16,
   "metadata": {},
   "outputs": [
    {
     "data": {
      "text/plain": [
       "<matplotlib.axes._subplots.AxesSubplot at 0x2a038552a88>"
      ]
     },
     "execution_count": 16,
     "metadata": {},
     "output_type": "execute_result"
    },
    {
     "data": {
      "image/png": "[encoded data removed]",
      "text/plain": [
       "<Figure size 1440x320 with 1 Axes>"
      ]
     },
     "metadata": {
      "needs_background": "light"
     },
     "output_type": "display_data"
    }
   ],
   "source": [
    "figure(figsize=(18, 4), dpi=80)\n",
    "#plt.xticks(rotation=45)\n",
    "#ax.tick_params(axis='x', labelrotation=45)\n",
    "#plt.setp(ax.get_xticklabels(), rotation=45, ha='right')\n",
    "sns.countplot(x='topic',data=df)"
   ]
  },
  {
   "cell_type": "code",
   "execution_count": 17,
   "metadata": {},
   "outputs": [
    {
     "data": {
      "text/plain": [
       "array(['Student', 'InvestmentBanking', 'indUnk', 'Non-Profit', 'Banking',\n",
       "       'Education', 'Engineering', 'Science', 'Communications-Media',\n",
       "       'BusinessServices', 'Sports-Recreation', 'Arts', 'Internet',\n",
       "       'Museums-Libraries', 'Accounting', 'Technology', 'Law',\n",
       "       'Consulting', 'Automotive', 'Religion', 'Fashion', 'Publishing',\n",
       "       'Marketing', 'LawEnforcement-Security', 'HumanResources',\n",
       "       'Telecommunications'], dtype=object)"
      ]
     },
     "execution_count": 17,
     "metadata": {},
     "output_type": "execute_result"
    }
   ],
   "source": [
    "df['topic'].unique()"
   ]
  },
  {
   "cell_type": "code",
   "execution_count": null,
   "metadata": {},
   "outputs": [],
   "source": []
  },
  {
   "cell_type": "code",
   "execution_count": 18,
   "metadata": {},
   "outputs": [],
   "source": [
    "# drop id and date columns\n",
    "df.drop(labels=['id','date'], axis=1,inplace=True)"
   ]
  },
  {
   "cell_type": "code",
   "execution_count": null,
   "metadata": {},
   "outputs": [],
   "source": []
  },
  {
   "cell_type": "markdown",
   "metadata": {},
   "source": [
    "Part A - Q2 A -Eliminate All special Characters and Numbers"
   ]
  },
  {
   "cell_type": "code",
   "execution_count": 19,
   "metadata": {},
   "outputs": [],
   "source": [
    "\n",
    "df.text = df.text.apply(lambda s : re.sub(\"[^\\w ]\",\"\",s))"
   ]
  },
  {
   "cell_type": "markdown",
   "metadata": {},
   "source": [
    "Part A - Q2 B -Lowercase all textual data"
   ]
  },
  {
   "cell_type": "code",
   "execution_count": 20,
   "metadata": {},
   "outputs": [],
   "source": [
    "df.text = df.text.apply(lambda s: s.lower())"
   ]
  },
  {
   "cell_type": "markdown",
   "metadata": {},
   "source": [
    "Part A - Q2 C -Remove all Stopwords"
   ]
  },
  {
   "cell_type": "code",
   "execution_count": 21,
   "metadata": {},
   "outputs": [],
   "source": [
    "stopwords=set(stopwords.words('english'))\n",
    "df.text = df.text.apply(lambda t: ' '.join([words for words in t.split() if words not in stopwords]) )"
   ]
  },
  {
   "cell_type": "markdown",
   "metadata": {},
   "source": [
    "Part A - Q2 D - Remove all extra white spaces"
   ]
  },
  {
   "cell_type": "code",
   "execution_count": 22,
   "metadata": {},
   "outputs": [],
   "source": [
    "df.text = df.text.apply(lambda s: s.strip())"
   ]
  },
  {
   "cell_type": "markdown",
   "metadata": {},
   "source": [
    "Part A - Q3 A -Create dependent and independent variables"
   ]
  },
  {
   "cell_type": "markdown",
   "metadata": {},
   "source": [
    "Merging all the other columns into labels columns"
   ]
  },
  {
   "cell_type": "code",
   "execution_count": 23,
   "metadata": {},
   "outputs": [],
   "source": [
    "df['labels'] = df.apply(lambda col : [col['gender'],str(col['age']),col['topic'],col['sign']], axis=1)"
   ]
  },
  {
   "cell_type": "code",
   "execution_count": 24,
   "metadata": {},
   "outputs": [],
   "source": [
    "#drop  gender,age,topic & sign as they are already merged to labels column\n",
    "df.drop(columns=['gender','age','topic','sign'], axis=1, inplace=True)"
   ]
  },
  {
   "cell_type": "code",
   "execution_count": 25,
   "metadata": {},
   "outputs": [
    {
     "data": {
      "text/html": [
       "<div>\n",
       "<style scoped>\n",
       "    .dataframe tbody tr th:only-of-type {\n",
       "        vertical-align: middle;\n",
       "    }\n",
       "\n",
       "    .dataframe tbody tr th {\n",
       "        vertical-align: top;\n",
       "    }\n",
       "\n",
       "    .dataframe thead th {\n",
       "        text-align: right;\n",
       "    }\n",
       "</style>\n",
       "<table border=\"1\" class=\"dataframe\">\n",
       "  <thead>\n",
       "    <tr style=\"text-align: right;\">\n",
       "      <th></th>\n",
       "      <th>text</th>\n",
       "      <th>labels</th>\n",
       "    </tr>\n",
       "  </thead>\n",
       "  <tbody>\n",
       "    <tr>\n",
       "      <th>0</th>\n",
       "      <td>info found 100 pages 45 mb pdf files wait unti...</td>\n",
       "      <td>[male, 15, Student, Leo]</td>\n",
       "    </tr>\n",
       "    <tr>\n",
       "      <th>1</th>\n",
       "      <td>team members drewes van der laag urllink mail ...</td>\n",
       "      <td>[male, 15, Student, Leo]</td>\n",
       "    </tr>\n",
       "    <tr>\n",
       "      <th>2</th>\n",
       "      <td>het kader van kernfusie op aarde maak je eigen...</td>\n",
       "      <td>[male, 15, Student, Leo]</td>\n",
       "    </tr>\n",
       "    <tr>\n",
       "      <th>3</th>\n",
       "      <td>testing testing</td>\n",
       "      <td>[male, 15, Student, Leo]</td>\n",
       "    </tr>\n",
       "    <tr>\n",
       "      <th>4</th>\n",
       "      <td>thanks yahoos toolbar capture urls popupswhich...</td>\n",
       "      <td>[male, 33, InvestmentBanking, Aquarius]</td>\n",
       "    </tr>\n",
       "    <tr>\n",
       "      <th>...</th>\n",
       "      <td>...</td>\n",
       "      <td>...</td>\n",
       "    </tr>\n",
       "    <tr>\n",
       "      <th>9995</th>\n",
       "      <td>take home forever may rest sleep arms forgotte...</td>\n",
       "      <td>[female, 25, indUnk, Pisces]</td>\n",
       "    </tr>\n",
       "    <tr>\n",
       "      <th>9996</th>\n",
       "      <td>seductive secretness behind doors warning neve...</td>\n",
       "      <td>[female, 25, indUnk, Pisces]</td>\n",
       "    </tr>\n",
       "    <tr>\n",
       "      <th>9997</th>\n",
       "      <td>kind need holding hand petting hair cry bring ...</td>\n",
       "      <td>[female, 25, indUnk, Pisces]</td>\n",
       "    </tr>\n",
       "    <tr>\n",
       "      <th>9998</th>\n",
       "      <td>blurry outside sounds people mingle pass darkn...</td>\n",
       "      <td>[female, 25, indUnk, Pisces]</td>\n",
       "    </tr>\n",
       "    <tr>\n",
       "      <th>9999</th>\n",
       "      <td>body feels broken mind rejoices thought warmth...</td>\n",
       "      <td>[female, 25, indUnk, Pisces]</td>\n",
       "    </tr>\n",
       "  </tbody>\n",
       "</table>\n",
       "<p>10000 rows × 2 columns</p>\n",
       "</div>"
      ],
      "text/plain": [
       "                                                   text  \\\n",
       "0     info found 100 pages 45 mb pdf files wait unti...   \n",
       "1     team members drewes van der laag urllink mail ...   \n",
       "2     het kader van kernfusie op aarde maak je eigen...   \n",
       "3                                       testing testing   \n",
       "4     thanks yahoos toolbar capture urls popupswhich...   \n",
       "...                                                 ...   \n",
       "9995  take home forever may rest sleep arms forgotte...   \n",
       "9996  seductive secretness behind doors warning neve...   \n",
       "9997  kind need holding hand petting hair cry bring ...   \n",
       "9998  blurry outside sounds people mingle pass darkn...   \n",
       "9999  body feels broken mind rejoices thought warmth...   \n",
       "\n",
       "                                       labels  \n",
       "0                    [male, 15, Student, Leo]  \n",
       "1                    [male, 15, Student, Leo]  \n",
       "2                    [male, 15, Student, Leo]  \n",
       "3                    [male, 15, Student, Leo]  \n",
       "4     [male, 33, InvestmentBanking, Aquarius]  \n",
       "...                                       ...  \n",
       "9995             [female, 25, indUnk, Pisces]  \n",
       "9996             [female, 25, indUnk, Pisces]  \n",
       "9997             [female, 25, indUnk, Pisces]  \n",
       "9998             [female, 25, indUnk, Pisces]  \n",
       "9999             [female, 25, indUnk, Pisces]  \n",
       "\n",
       "[10000 rows x 2 columns]"
      ]
     },
     "execution_count": 25,
     "metadata": {},
     "output_type": "execute_result"
    }
   ],
   "source": [
    "df"
   ]
  },
  {
   "cell_type": "markdown",
   "metadata": {},
   "source": [
    "Part A - Q3 B -Split data into train and test."
   ]
  },
  {
   "cell_type": "code",
   "execution_count": 26,
   "metadata": {},
   "outputs": [],
   "source": [
    "X= df.text\n",
    "y = df.labels"
   ]
  },
  {
   "cell_type": "code",
   "execution_count": 27,
   "metadata": {},
   "outputs": [],
   "source": [
    "# split X and y into training and testing sets\n",
    "X_train, X_test, y_train, y_test = train_test_split(X,y, random_state=2,test_size = 0.2)"
   ]
  },
  {
   "cell_type": "code",
   "execution_count": 28,
   "metadata": {},
   "outputs": [
    {
     "name": "stdout",
     "output_type": "stream",
     "text": [
      "(8000,)\n",
      "(8000,)\n",
      "(2000,)\n",
      "(2000,)\n"
     ]
    }
   ],
   "source": [
    "print(X_train.shape)\n",
    "print(y_train.shape)\n",
    "print(X_test.shape)\n",
    "print(y_test.shape)"
   ]
  },
  {
   "cell_type": "code",
   "execution_count": 29,
   "metadata": {},
   "outputs": [
    {
     "data": {
      "text/plain": [
       "8856    someone tell got like sit desk work trying ass...\n",
       "1545                     expect life change still waiting\n",
       "8136                urllink look sun reflecting water ahh\n",
       "7768    like good neighbor id like go detail wedding d...\n",
       "7782    dufs looking mighty svelte hes got large melon...\n",
       "                              ...                        \n",
       "1099    wow thats im saying kids wow love show want go...\n",
       "2514           fairly inept terminator though wouldnt say\n",
       "6637    yeah maybe get hands handbook could definitely...\n",
       "2575    thanks guys support tee hee hee theyre kinds s...\n",
       "7336    love bb like used love bbhow long sing songpb ...\n",
       "Name: text, Length: 8000, dtype: object"
      ]
     },
     "execution_count": 29,
     "metadata": {},
     "output_type": "execute_result"
    }
   ],
   "source": [
    "X_train"
   ]
  },
  {
   "cell_type": "code",
   "execution_count": 30,
   "metadata": {},
   "outputs": [
    {
     "data": {
      "text/plain": [
       "(8000,)"
      ]
     },
     "execution_count": 30,
     "metadata": {},
     "output_type": "execute_result"
    }
   ],
   "source": [
    "X_train.shape"
   ]
  },
  {
   "cell_type": "markdown",
   "metadata": {},
   "source": [
    "Part A - Q3 C - Vectorize data using any one vectorizer."
   ]
  },
  {
   "cell_type": "code",
   "execution_count": 31,
   "metadata": {},
   "outputs": [
    {
     "data": {
      "text/plain": [
       "566120"
      ]
     },
     "execution_count": 31,
     "metadata": {},
     "output_type": "execute_result"
    }
   ],
   "source": [
    "cvect = CountVectorizer(ngram_range=(1,2))\n",
    "#Feed SMS data to CountVectorizer\n",
    "cvect.fit(X_train)\n",
    "\n",
    "#Check the vocablury size\n",
    "len(cvect.vocabulary_)"
   ]
  },
  {
   "cell_type": "code",
   "execution_count": 32,
   "metadata": {},
   "outputs": [
    {
     "data": {
      "text/plain": [
       "['00',\n",
       " '00 one',\n",
       " '00 tcr1',\n",
       " '000',\n",
       " '000 address',\n",
       " '000 people',\n",
       " '000 sec',\n",
       " '000 songs',\n",
       " '000 subject',\n",
       " '0000001',\n",
       " '0000001 zbaras',\n",
       " '000001',\n",
       " '000001 maybe',\n",
       " '001',\n",
       " '001 first',\n",
       " '002',\n",
       " '002 first',\n",
       " '002 like',\n",
       " '002 middle',\n",
       " '003',\n",
       " '003 last',\n",
       " '004',\n",
       " '004 nicknames',\n",
       " '005',\n",
       " '005 gender',\n",
       " '006',\n",
       " '006 age',\n",
       " '007',\n",
       " '007 birthday',\n",
       " '007 game',\n",
       " '007 jersey',\n",
       " '008',\n",
       " '008 height',\n",
       " '009',\n",
       " '009 hair',\n",
       " '01',\n",
       " '01 2003',\n",
       " '01 bette',\n",
       " '01 informs',\n",
       " '01 known',\n",
       " '01 means',\n",
       " '01 minds',\n",
       " '01 role',\n",
       " '01 televive',\n",
       " '01 underworld',\n",
       " '010',\n",
       " '010 eye',\n",
       " '0100',\n",
       " '0100 hrs',\n",
       " '0100 wokeup',\n",
       " '0100010001101111011100100110101101111000',\n",
       " '011',\n",
       " '011 race',\n",
       " '011 uich',\n",
       " '012',\n",
       " '012 glasses',\n",
       " '012 last',\n",
       " '01234',\n",
       " '01234 time',\n",
       " '013',\n",
       " '013 dodid',\n",
       " '013 give',\n",
       " '014',\n",
       " '014 hair',\n",
       " '015',\n",
       " '015 born',\n",
       " '016',\n",
       " '016 current',\n",
       " '017',\n",
       " '017 zodiac',\n",
       " '018',\n",
       " '018 many',\n",
       " '019',\n",
       " '019 nationality',\n",
       " '02',\n",
       " '02 2002',\n",
       " '02 added',\n",
       " '02 argue',\n",
       " '02 britney',\n",
       " '02 deadbeat',\n",
       " '02 pet',\n",
       " '02 wilding',\n",
       " '020',\n",
       " '020 bad',\n",
       " '021',\n",
       " '021 piercings',\n",
       " '021 totally',\n",
       " '02182004',\n",
       " '02182004 urllink',\n",
       " '022',\n",
       " '022 piercings',\n",
       " '02232004',\n",
       " '023',\n",
       " '023 tattoos',\n",
       " '024',\n",
       " '024 tattoos',\n",
       " '025',\n",
       " '025 todays',\n",
       " '025613',\n",
       " '025613 pm',\n",
       " '026',\n",
       " '026 main',\n",
       " '026 time',\n",
       " '027',\n",
       " '027 ready',\n",
       " '028',\n",
       " '028 mothers',\n",
       " '029',\n",
       " '029 fathers',\n",
       " '03',\n",
       " '03 always',\n",
       " '03 calvin',\n",
       " '03 deadbeat',\n",
       " '03 ever',\n",
       " '03 focus',\n",
       " '03 january',\n",
       " '03 knows',\n",
       " '03 moz',\n",
       " '03 state',\n",
       " '030',\n",
       " '030 stepparents',\n",
       " '0303',\n",
       " '0303 afternoon',\n",
       " '0303 pass',\n",
       " '030303',\n",
       " '030303 gods',\n",
       " '030303 world',\n",
       " '030303 wouldnt',\n",
       " '0303030303',\n",
       " '0303030303 wont',\n",
       " '031',\n",
       " '031 brotherss',\n",
       " '03152004',\n",
       " '03152004 urllink',\n",
       " '032',\n",
       " '032 sisterss',\n",
       " '033',\n",
       " '033 favorite',\n",
       " '033100',\n",
       " '033100 pm',\n",
       " '034',\n",
       " '034 favorite',\n",
       " '035',\n",
       " '035 favorite',\n",
       " '036',\n",
       " '036 worst',\n",
       " '037',\n",
       " '037 best',\n",
       " '038',\n",
       " '038 get',\n",
       " '039',\n",
       " '039 anyone',\n",
       " '03my',\n",
       " '03my life',\n",
       " '04',\n",
       " '04 05',\n",
       " '04 actaully',\n",
       " '04 apocalypse',\n",
       " '04 asses',\n",
       " '04 bumper',\n",
       " '04 capitalize',\n",
       " '04 compassionate',\n",
       " '04 dont',\n",
       " '04 economys',\n",
       " '04 else',\n",
       " '04 ever',\n",
       " '04 four',\n",
       " '04 get',\n",
       " '04 going',\n",
       " '04 gooder',\n",
       " '04 heart',\n",
       " '04 hes',\n",
       " '04 im',\n",
       " '04 kids',\n",
       " '04 last',\n",
       " '04 leave',\n",
       " '04 less',\n",
       " '04 making',\n",
       " '04 nobrainer',\n",
       " '04 note',\n",
       " '04 ntu',\n",
       " '04 pineapple',\n",
       " '04 putting',\n",
       " '04 seeing',\n",
       " '04 state',\n",
       " '04 tasks',\n",
       " '04 thank',\n",
       " '04 thanks',\n",
       " '04 ticket',\n",
       " '04 time',\n",
       " '04 trustworthy',\n",
       " '04 truth',\n",
       " '04 written',\n",
       " '040',\n",
       " '040 24hour',\n",
       " '040 pets',\n",
       " '041',\n",
       " '041 names',\n",
       " '042',\n",
       " '042 kind',\n",
       " '043',\n",
       " '043 still',\n",
       " '0430',\n",
       " '0430 first',\n",
       " '044',\n",
       " '044 drop',\n",
       " '045',\n",
       " '045 current',\n",
       " '045090',\n",
       " '045090 usd',\n",
       " '046',\n",
       " '046 favorite',\n",
       " '047',\n",
       " '047 least',\n",
       " '048',\n",
       " '048 favorite',\n",
       " '049',\n",
       " '049 least',\n",
       " '04but',\n",
       " '04but couldnt',\n",
       " '04yet',\n",
       " '04yet another',\n",
       " '05',\n",
       " '05 074658',\n",
       " '05 come',\n",
       " '05 ever',\n",
       " '05 forget',\n",
       " '05 like',\n",
       " '05 little',\n",
       " '05 makes',\n",
       " '05 may',\n",
       " '05 second',\n",
       " '05 sweet',\n",
       " '05 trouble',\n",
       " '050',\n",
       " '050 favorite',\n",
       " '051',\n",
       " '051 least',\n",
       " '051304',\n",
       " '051304 email',\n",
       " '051704',\n",
       " '052',\n",
       " '052 dodid',\n",
       " '0525',\n",
       " '0525 pm',\n",
       " '05292004',\n",
       " '05292004 dreamtheaternet',\n",
       " '053',\n",
       " '053 play',\n",
       " '0530',\n",
       " '0530 0600',\n",
       " '054',\n",
       " '054 dodid',\n",
       " '055',\n",
       " '055 arewere',\n",
       " '056',\n",
       " '056 favorite',\n",
       " '057',\n",
       " '057 favorite',\n",
       " '058',\n",
       " '058 least',\n",
       " '059',\n",
       " '059 least',\n",
       " '06',\n",
       " '06 091103',\n",
       " '06 100010',\n",
       " '06 112850',\n",
       " '06 121148',\n",
       " '06 cloud',\n",
       " '06 hard',\n",
       " '06 im',\n",
       " '06 sure',\n",
       " '06 type',\n",
       " '060',\n",
       " '060 humiliating',\n",
       " '0600',\n",
       " '0600 morning',\n",
       " '0600 please',\n",
       " '0600 rehearse',\n",
       " '060404',\n",
       " '060404 better',\n",
       " '061',\n",
       " '061 number',\n",
       " '062',\n",
       " '062 clothing',\n",
       " '063',\n",
       " '063 shoes',\n",
       " '064',\n",
       " '064 saying',\n",
       " '065',\n",
       " '065 tv',\n",
       " '066',\n",
       " '066 sports',\n",
       " '067',\n",
       " '067 vegetables',\n",
       " '068',\n",
       " '068 fruits',\n",
       " '069',\n",
       " '069 movies',\n",
       " '06th',\n",
       " '06th 1987',\n",
       " '07',\n",
       " '07 always',\n",
       " '07 ever',\n",
       " '07 hot',\n",
       " '07 jesus',\n",
       " '070',\n",
       " '070 magazine',\n",
       " '0700',\n",
       " '0700 age',\n",
       " '0700 finalize',\n",
       " '07072004',\n",
       " '07072004 143958',\n",
       " '071',\n",
       " '071 actors',\n",
       " '072',\n",
       " '072 actress',\n",
       " '07262004',\n",
       " '07262004 nfl',\n",
       " '073',\n",
       " '073 candy',\n",
       " '074',\n",
       " '074 gum',\n",
       " '074114',\n",
       " '074114 gmt',\n",
       " '0745',\n",
       " '0745 change',\n",
       " '074658',\n",
       " '074658 pm',\n",
       " '075',\n",
       " '075 scent',\n",
       " '076',\n",
       " '076 candy',\n",
       " '077',\n",
       " '077 ice',\n",
       " '078',\n",
       " '078 color',\n",
       " '079',\n",
       " '079 season',\n",
       " '08',\n",
       " '08 ever',\n",
       " '08 pineapple',\n",
       " '08 sensitive',\n",
       " '08 surf',\n",
       " '080',\n",
       " '080 holiday',\n",
       " '080 ten',\n",
       " '0800',\n",
       " '0800 despite',\n",
       " '0800 guessed',\n",
       " '0800 im',\n",
       " '081',\n",
       " '081 band',\n",
       " '082',\n",
       " '082 singer',\n",
       " '083',\n",
       " '083 group',\n",
       " '0830am',\n",
       " '0830am asking',\n",
       " '084',\n",
       " '084 rapper',\n",
       " '0845',\n",
       " '0845 went',\n",
       " '085',\n",
       " '085 type',\n",
       " '086',\n",
       " '086 thing',\n",
       " '087',\n",
       " '087 place',\n",
       " '088',\n",
       " '088 radio',\n",
       " '089',\n",
       " '089 tv',\n",
       " '09',\n",
       " '09 access',\n",
       " '09 almost',\n",
       " '09 big',\n",
       " '09 coolest',\n",
       " '09 ever',\n",
       " '09 number',\n",
       " '09 paris',\n",
       " '090',\n",
       " '090 junk',\n",
       " '091',\n",
       " '091 overall',\n",
       " '091103',\n",
       " '091103 harmony',\n",
       " '0915',\n",
       " '0915 diva',\n",
       " '092',\n",
       " '092 stores',\n",
       " '093',\n",
       " '093 shoe',\n",
       " '094',\n",
       " '094 fast',\n",
       " '095',\n",
       " '095 restaurant',\n",
       " '096',\n",
       " '096 shape',\n",
       " '097',\n",
       " '097 time',\n",
       " '098',\n",
       " '098 000',\n",
       " '098 country',\n",
       " '098 senttuesday',\n",
       " '099',\n",
       " '099 state',\n",
       " '0nbsp',\n",
       " '0nbsp think',\n",
       " '0o',\n",
       " '0o well',\n",
       " '10',\n",
       " '10 10',\n",
       " '10 11',\n",
       " '10 115',\n",
       " '10 12',\n",
       " '10 15',\n",
       " '10 20',\n",
       " '10 2004',\n",
       " '10 22',\n",
       " '10 45',\n",
       " '10 50',\n",
       " '10 8th',\n",
       " '10 acquaintances',\n",
       " '10 always',\n",
       " '10 americans',\n",
       " '10 amsigh',\n",
       " '10 anyway',\n",
       " '10 anywhoim',\n",
       " '10 august',\n",
       " '10 avril',\n",
       " '10 años',\n",
       " '10 bands',\n",
       " '10 best',\n",
       " '10 bible',\n",
       " '10 bin',\n",
       " '10 bleach',\n",
       " '10 bread',\n",
       " '10 bucks',\n",
       " '10 cds',\n",
       " '10 cent',\n",
       " '10 comeing',\n",
       " '10 commandments',\n",
       " '10 coolest',\n",
       " '10 count',\n",
       " '10 coupon',\n",
       " '10 cover',\n",
       " '10 cs',\n",
       " '10 daily',\n",
       " '10 days',\n",
       " '10 describe',\n",
       " '10 didnt',\n",
       " '10 different',\n",
       " '10 difficulty',\n",
       " '10 dirty',\n",
       " '10 disposible',\n",
       " '10 dont',\n",
       " '10 dream',\n",
       " '10 dressed',\n",
       " '10 dvd',\n",
       " '10 eats',\n",
       " '10 empire',\n",
       " '10 end',\n",
       " '10 enough',\n",
       " '10 episodes',\n",
       " '10 er',\n",
       " '10 euros',\n",
       " '10 eurossurprisingly',\n",
       " '10 even',\n",
       " '10 ever',\n",
       " '10 evil',\n",
       " '10 far',\n",
       " '10 father',\n",
       " '10 feet',\n",
       " '10 fell',\n",
       " '10 ff',\n",
       " '10 final',\n",
       " '10 forigners',\n",
       " '10 formal',\n",
       " '10 friends',\n",
       " '10 funny',\n",
       " '10 fuzzy',\n",
       " '10 game',\n",
       " '10 games',\n",
       " '10 gas',\n",
       " '10 generations',\n",
       " '10 get',\n",
       " '10 gig',\n",
       " '10 golf',\n",
       " '10 government',\n",
       " '10 grovers',\n",
       " '10 handling',\n",
       " '10 hanging',\n",
       " '10 hate',\n",
       " '10 hey',\n",
       " '10 hit',\n",
       " '10 hole',\n",
       " '10 hour',\n",
       " '10 hours',\n",
       " '10 hr',\n",
       " '10 hrs',\n",
       " '10 hsc',\n",
       " '10 huzzah',\n",
       " '10 im',\n",
       " '10 inches',\n",
       " '10 interview',\n",
       " '10 iraqi',\n",
       " '10 ive',\n",
       " '10 joined',\n",
       " '10 july',\n",
       " '10 kayak',\n",
       " '10 kkycfm1023',\n",
       " '10 knew',\n",
       " '10 last',\n",
       " '10 latest',\n",
       " '10 layers',\n",
       " '10 lbs',\n",
       " '10 least',\n",
       " '10 lessons',\n",
       " '10 like',\n",
       " '10 line',\n",
       " '10 lioaz',\n",
       " '10 liter',\n",
       " '10 little',\n",
       " '10 many',\n",
       " '10 may',\n",
       " '10 milestone',\n",
       " '10 million',\n",
       " '10 min',\n",
       " '10 mins',\n",
       " '10 minute',\n",
       " '10 minutes',\n",
       " '10 minutesnbsp',\n",
       " '10 mispronunciationstypos',\n",
       " '10 missed',\n",
       " '10 months',\n",
       " '10 morning',\n",
       " '10 mothering',\n",
       " '10 movies',\n",
       " '10 much',\n",
       " '10 murders',\n",
       " '10 mysteries',\n",
       " '10 negative',\n",
       " '10 nonrefundable',\n",
       " '10 note',\n",
       " '10 nsla',\n",
       " '10 one',\n",
       " '10 overall',\n",
       " '10 pages',\n",
       " '10 part',\n",
       " '10 people',\n",
       " '10 percent',\n",
       " '10 perhaps',\n",
       " '10 plus',\n",
       " '10 pluswtfmake',\n",
       " '10 pm',\n",
       " '10 point',\n",
       " '10 points',\n",
       " '10 pounds',\n",
       " '10 pple',\n",
       " '10 putting',\n",
       " '10 query',\n",
       " '10 rasmus',\n",
       " '10 raymonds',\n",
       " '10 read',\n",
       " '10 really',\n",
       " '10 reasons',\n",
       " '10 reconstruction',\n",
       " '10 reform',\n",
       " '10 reviewer',\n",
       " '10 right',\n",
       " '10 rock',\n",
       " '10 rounds',\n",
       " '10 rules',\n",
       " '10 saw',\n",
       " '10 scott',\n",
       " '10 second',\n",
       " '10 seconds',\n",
       " '10 see',\n",
       " '10 sense',\n",
       " '10 serious',\n",
       " '10 sex',\n",
       " '10 since',\n",
       " '10 slave',\n",
       " '10 slaves',\n",
       " '10 something',\n",
       " '10 st',\n",
       " '10 stay',\n",
       " '10 steps',\n",
       " '10 still',\n",
       " '10 stories',\n",
       " '10 straight',\n",
       " '10 strict',\n",
       " '10 suppose',\n",
       " '10 sweetnessbut',\n",
       " '10 tampa',\n",
       " '10 team',\n",
       " '10 tells',\n",
       " '10 things',\n",
       " '10 times',\n",
       " '10 today',\n",
       " '10 tonic',\n",
       " '10 top',\n",
       " '10 truer',\n",
       " '10 types',\n",
       " '10 units',\n",
       " '10 us',\n",
       " '10 usc',\n",
       " '10 v20',\n",
       " '10 vegetarian',\n",
       " '10 volunteers',\n",
       " '10 watch',\n",
       " '10 weeks',\n",
       " '10 well',\n",
       " '10 went',\n",
       " '10 whether',\n",
       " '10 white',\n",
       " '10 wingstop',\n",
       " '10 wore',\n",
       " '10 worlds',\n",
       " '10 worst',\n",
       " '10 worth',\n",
       " '10 would',\n",
       " '10 yards',\n",
       " '10 year',\n",
       " '10 years',\n",
       " '10 yes',\n",
       " '10 yr',\n",
       " '100',\n",
       " '100 000',\n",
       " '100 101',\n",
       " '100 195',\n",
       " '100 also',\n",
       " '100 always',\n",
       " '100 back',\n",
       " '100 backpedals',\n",
       " '100 blisters',\n",
       " '100 bones',\n",
       " '100 books',\n",
       " '100 boys',\n",
       " '100 bucks',\n",
       " '100 cheaper',\n",
       " '100 cheerleader',\n",
       " '100 children',\n",
       " '100 clarity',\n",
       " '100 clear',\n",
       " '100 degree',\n",
       " '100 denver',\n",
       " '100 different',\n",
       " '100 emails',\n",
       " '100 facts',\n",
       " '100 feet',\n",
       " '100 first',\n",
       " '100 free',\n",
       " '100 gain',\n",
       " '100 games',\n",
       " '100 go',\n",
       " '100 guessed',\n",
       " '100 guests',\n",
       " '100 happy',\n",
       " '100 hope',\n",
       " '100 hours',\n",
       " '100 iraqi',\n",
       " '100 jogeburi',\n",
       " '100 kinds',\n",
       " '100 later',\n",
       " '100 lbs',\n",
       " '100 left',\n",
       " '100 liberal',\n",
       " '100 like',\n",
       " '100 lunch',\n",
       " '100 machine',\n",
       " '100 many',\n",
       " '100 mg',\n",
       " '100 miles',\n",
       " '100 million',\n",
       " '100 mom',\n",
       " '100 month',\n",
       " '100 mph',\n",
       " '100 much',\n",
       " '100 nations',\n",
       " '100 ok',\n",
       " '100 pages',\n",
       " '100 people',\n",
       " '100 pgs',\n",
       " '100 played',\n",
       " '100 please',\n",
       " '100 positive',\n",
       " '100 post',\n",
       " '100 pounds',\n",
       " '100 publicly',\n",
       " '100 pull',\n",
       " '100 ravenwood',\n",
       " '100 reasons',\n",
       " '100 regarding',\n",
       " '100 runs',\n",
       " '100 safe',\n",
       " '100 sayumen',\n",
       " '100 shomenuchi',\n",
       " '100 slaves',\n",
       " '100 slept',\n",
       " '100 soldiers',\n",
       " '100 surety',\n",
       " '100 things',\n",
       " '100 threw',\n",
       " '100 times',\n",
       " '100 today',\n",
       " '100 tons',\n",
       " '100 troops',\n",
       " '100 tubes',\n",
       " '100 uai',\n",
       " '100 want',\n",
       " '100 week',\n",
       " '100 whole',\n",
       " '100 yards',\n",
       " '100 years',\n",
       " '100 yet',\n",
       " '100 young',\n",
       " '1000',\n",
       " '1000 also',\n",
       " '1000 base',\n",
       " '1000 big',\n",
       " '1000 bucks',\n",
       " '1000 cds',\n",
       " '1000 clothesseller',\n",
       " '1000 continued',\n",
       " '1000 disney',\n",
       " '1000 doesnt',\n",
       " '1000 dollar',\n",
       " '1000 exactly',\n",
       " '1000 gigs',\n",
       " '1000 give',\n",
       " '1000 heads',\n",
       " '1000 homo',\n",
       " '1000 inspiron',\n",
       " '1000 iraqi',\n",
       " '1000 ive',\n",
       " '1000 jesus',\n",
       " '1000 miles',\n",
       " '1000 morning',\n",
       " '1000 news',\n",
       " '1000 page',\n",
       " '1000 points',\n",
       " '1000 pound',\n",
       " '1000 soldiers',\n",
       " '1000 suburi',\n",
       " '1000 summit',\n",
       " '1000 supposed',\n",
       " '1000 texts',\n",
       " '1000 times',\n",
       " '1000 usd',\n",
       " '1000 well',\n",
       " '1000 worth',\n",
       " '1000 year',\n",
       " '1000 years',\n",
       " '10000',\n",
       " '10000 20000',\n",
       " '10000 bombers',\n",
       " '10000 cats',\n",
       " '10000 copies',\n",
       " '10000 dangerous',\n",
       " '10000 dollars',\n",
       " '10000 emails',\n",
       " '10000 english',\n",
       " '10000 give',\n",
       " '10000 lakes',\n",
       " '10000 new',\n",
       " '10000 options',\n",
       " '10000 pair',\n",
       " '10000 sumber',\n",
       " '10000 troops',\n",
       " '100000',\n",
       " '100000 1998',\n",
       " '100000 brother',\n",
       " '100000 cops',\n",
       " '100000 dvd',\n",
       " '100000 fact',\n",
       " '100000 invest',\n",
       " '100000 miles',\n",
       " '100000 relief',\n",
       " '1000000',\n",
       " '1000000 miles',\n",
       " '1000000 people',\n",
       " '10000000000',\n",
       " '10000000000 people',\n",
       " '1000020000',\n",
       " '1000020000 usd',\n",
       " '10000th',\n",
       " '10000th time',\n",
       " '100010',\n",
       " '100010 hot',\n",
       " '10001600',\n",
       " '10001600 prompting',\n",
       " '1000pm',\n",
       " '1000pm currently',\n",
       " '1000pm darnso',\n",
       " '1000th',\n",
       " '1000th post',\n",
       " '100145',\n",
       " '100145 pm',\n",
       " '1003',\n",
       " '1003 av',\n",
       " '100am',\n",
       " '100am know',\n",
       " '100days',\n",
       " '100days celebration',\n",
       " '100kg',\n",
       " '100kg dakaka',\n",
       " '100m',\n",
       " '100m away',\n",
       " '100m dash',\n",
       " '100m oksounded',\n",
       " '100m songs',\n",
       " '100nbsp',\n",
       " '100nbsp months',\n",
       " '100night',\n",
       " '100night festival',\n",
       " '100peeercent',\n",
       " '100peeercent behind',\n",
       " '100plus',\n",
       " '100plus fiesta',\n",
       " '100pm',\n",
       " '100pm till',\n",
       " '100pre',\n",
       " '100pre hacen',\n",
       " '100something',\n",
       " '100something want',\n",
       " '100th',\n",
       " '100th attempt',\n",
       " '100th birthday',\n",
       " '100th post',\n",
       " '100th store',\n",
       " '100x',\n",
       " '100x better',\n",
       " '100x popular',\n",
       " '101',\n",
       " '101 102',\n",
       " '101 actually',\n",
       " '101 aday',\n",
       " '101 andré',\n",
       " '101 basics',\n",
       " '101 brendanikoerner',\n",
       " '101 detroit',\n",
       " '101 espanol',\n",
       " '101 every',\n",
       " '101 girls',\n",
       " '101 john',\n",
       " '101 spoke',\n",
       " '101 thought',\n",
       " '101 ventura',\n",
       " '101 well',\n",
       " '101 words',\n",
       " '1010pm',\n",
       " '1010pm first',\n",
       " '1011',\n",
       " '1011 hrs',\n",
       " '1011 year',\n",
       " '10112000',\n",
       " '10112000 urllink',\n",
       " '1012',\n",
       " '1012 hour',\n",
       " '1012 hours',\n",
       " '1012 little',\n",
       " '1015',\n",
       " '1015 gig',\n",
       " '1015 least',\n",
       " '1015 old',\n",
       " '1015 park',\n",
       " '1015 parking',\n",
       " '1015 per',\n",
       " '1015 pm',\n",
       " '1015 row',\n",
       " '1015 seconds',\n",
       " '10152003',\n",
       " '10152003 025613',\n",
       " '10152003 033100',\n",
       " '10152003 114641',\n",
       " '1015am',\n",
       " '1015am jogs',\n",
       " '1016',\n",
       " '1016 hours',\n",
       " '101st',\n",
       " '101st airborne',\n",
       " '102',\n",
       " '102 103',\n",
       " '102 degrees',\n",
       " '102 malls',\n",
       " '102 monterrey',\n",
       " '102 pimpin',\n",
       " '1020',\n",
       " '1020 back',\n",
       " '1020 didnt',\n",
       " '1020 haa',\n",
       " '1020 id',\n",
       " '1020 market',\n",
       " '1020 years',\n",
       " '10203',\n",
       " '10203 deal',\n",
       " '1022002',\n",
       " '1022002 90747',\n",
       " '102203',\n",
       " '102203 911',\n",
       " '1027',\n",
       " '1027 news',\n",
       " '103',\n",
       " '103 104',\n",
       " '103 11',\n",
       " '103 13',\n",
       " '103 bedford',\n",
       " '103 brandt',\n",
       " '103 kingston',\n",
       " '103 rooting',\n",
       " '103 sigh',\n",
       " '103 video',\n",
       " '1030',\n",
       " '1030 almost',\n",
       " '1030 flight',\n",
       " '1030 got',\n",
       " '1030 heading',\n",
       " '1030 hella',\n",
       " '1030 last',\n",
       " '1030 latest',\n",
       " '1030 like',\n",
       " '1030 odd',\n",
       " '1030 pm',\n",
       " '1030 pretty',\n",
       " '1030 reached',\n",
       " '1030 saturday',\n",
       " '1030 think',\n",
       " '1030 time',\n",
       " '1030 tuesdays',\n",
       " '1030 wait',\n",
       " '1030 wanted',\n",
       " '1030 whats',\n",
       " '10301130',\n",
       " '10301130 listen',\n",
       " '1030am',\n",
       " '1030am 230pm',\n",
       " '1030am everyone',\n",
       " '1030amnot',\n",
       " '1030amnot like',\n",
       " '1030pm',\n",
       " '1030pm drove',\n",
       " '1031',\n",
       " '1031 thursday',\n",
       " '1031821',\n",
       " '1031821 received',\n",
       " '1033',\n",
       " '1033 dramatic',\n",
       " '104',\n",
       " '104 105',\n",
       " '104 kuala',\n",
       " '104 monday',\n",
       " '104 shampoo',\n",
       " '104 spent',\n",
       " '10400',\n",
       " '10400 bills',\n",
       " '1045',\n",
       " '1045 dazed',\n",
       " '1045 im',\n",
       " '1045 ive',\n",
       " '1045am',\n",
       " '1045am woohoo',\n",
       " '1045pm',\n",
       " '1045pm serious',\n",
       " '105',\n",
       " '105 106',\n",
       " '105 board',\n",
       " '105 greeted',\n",
       " '105 portland',\n",
       " '1050',\n",
       " '1050 pair',\n",
       " '1050 spent',\n",
       " '105pm',\n",
       " '105pm day',\n",
       " '106',\n",
       " '106 107',\n",
       " '106 annexes',\n",
       " '106 computer',\n",
       " '106 panama',\n",
       " '106 pm',\n",
       " '106 slept',\n",
       " '1065',\n",
       " '1065 lot',\n",
       " '1067',\n",
       " '1067 fm',\n",
       " '10689',\n",
       " '10689 lived',\n",
       " '107',\n",
       " '107 108',\n",
       " '107 car',\n",
       " '107 children',\n",
       " '107 cleveland',\n",
       " '107 meal',\n",
       " '107 mostly',\n",
       " '107 slept',\n",
       " '107 tons',\n",
       " '107 winston',\n",
       " '107 years',\n",
       " '1075',\n",
       " ...]"
      ]
     },
     "execution_count": 32,
     "metadata": {},
     "output_type": "execute_result"
    }
   ],
   "source": [
    "cvect.get_feature_names()"
   ]
  },
  {
   "cell_type": "code",
   "execution_count": 33,
   "metadata": {},
   "outputs": [],
   "source": [
    "X_train_ct = cvect.transform(X_train)"
   ]
  },
  {
   "cell_type": "code",
   "execution_count": 34,
   "metadata": {},
   "outputs": [
    {
     "data": {
      "text/plain": [
       "<8000x566120 sparse matrix of type '<class 'numpy.int64'>'\n",
       "\twith 1193481 stored elements in Compressed Sparse Row format>"
      ]
     },
     "execution_count": 34,
     "metadata": {},
     "output_type": "execute_result"
    }
   ],
   "source": [
    "X_train_ct"
   ]
  },
  {
   "cell_type": "code",
   "execution_count": 35,
   "metadata": {},
   "outputs": [
    {
     "data": {
      "text/plain": [
       "(8000, 566120)"
      ]
     },
     "execution_count": 35,
     "metadata": {},
     "output_type": "execute_result"
    }
   ],
   "source": [
    "X_train_ct.shape"
   ]
  },
  {
   "cell_type": "code",
   "execution_count": 36,
   "metadata": {},
   "outputs": [
    {
     "data": {
      "text/plain": [
       "scipy.sparse.csr.csr_matrix"
      ]
     },
     "execution_count": 36,
     "metadata": {},
     "output_type": "execute_result"
    }
   ],
   "source": [
    "type(X_train_ct)"
   ]
  },
  {
   "cell_type": "code",
   "execution_count": 37,
   "metadata": {},
   "outputs": [],
   "source": [
    "X_test_ct = cvect.transform(X_test)"
   ]
  },
  {
   "cell_type": "code",
   "execution_count": 38,
   "metadata": {},
   "outputs": [
    {
     "data": {
      "text/plain": [
       "['00',\n",
       " '00 one',\n",
       " '00 tcr1',\n",
       " '000',\n",
       " '000 address',\n",
       " '000 people',\n",
       " '000 sec',\n",
       " '000 songs',\n",
       " '000 subject',\n",
       " '0000001']"
      ]
     },
     "execution_count": 38,
     "metadata": {},
     "output_type": "execute_result"
    }
   ],
   "source": [
    "cvect.get_feature_names()[:10]"
   ]
  },
  {
   "cell_type": "code",
   "execution_count": 39,
   "metadata": {},
   "outputs": [],
   "source": [
    "label_counts=dict()\n",
    "\n",
    "for labels in df.labels.values:\n",
    "    for label in labels:\n",
    "        if label in label_counts:\n",
    "            label_counts[str(label)]+=1\n",
    "        else:\n",
    "            \n",
    "            label_counts[str(label)]=1"
   ]
  },
  {
   "cell_type": "code",
   "execution_count": 40,
   "metadata": {},
   "outputs": [
    {
     "data": {
      "text/plain": [
       "{'male': 5916,\n",
       " '15': 602,\n",
       " 'Student': 1137,\n",
       " 'Leo': 301,\n",
       " '33': 136,\n",
       " 'InvestmentBanking': 70,\n",
       " 'Aquarius': 571,\n",
       " 'female': 4084,\n",
       " '14': 212,\n",
       " 'indUnk': 3287,\n",
       " 'Aries': 4198,\n",
       " '25': 386,\n",
       " 'Capricorn': 215,\n",
       " '17': 1185,\n",
       " 'Gemini': 150,\n",
       " '23': 253,\n",
       " 'Non-Profit': 71,\n",
       " 'Cancer': 504,\n",
       " 'Banking': 16,\n",
       " '37': 33,\n",
       " 'Sagittarius': 1097,\n",
       " '26': 234,\n",
       " '24': 655,\n",
       " 'Scorpio': 971,\n",
       " '27': 1054,\n",
       " 'Education': 270,\n",
       " '45': 16,\n",
       " 'Engineering': 127,\n",
       " 'Libra': 491,\n",
       " 'Science': 63,\n",
       " '34': 553,\n",
       " '41': 20,\n",
       " 'Communications-Media': 99,\n",
       " 'BusinessServices': 91,\n",
       " 'Sports-Recreation': 80,\n",
       " 'Virgo': 236,\n",
       " 'Taurus': 812,\n",
       " 'Arts': 45,\n",
       " 'Pisces': 454,\n",
       " '44': 3,\n",
       " '16': 440,\n",
       " 'Internet': 118,\n",
       " 'Museums-Libraries': 17,\n",
       " 'Accounting': 4,\n",
       " '39': 79,\n",
       " '35': 2315,\n",
       " 'Technology': 2654,\n",
       " '36': 1708,\n",
       " 'Law': 11,\n",
       " '46': 7,\n",
       " 'Consulting': 21,\n",
       " 'Automotive': 14,\n",
       " '42': 14,\n",
       " 'Religion': 9,\n",
       " '13': 42,\n",
       " 'Fashion': 1622,\n",
       " '38': 46,\n",
       " '43': 6,\n",
       " 'Publishing': 4,\n",
       " '40': 1,\n",
       " 'Marketing': 156,\n",
       " 'LawEnforcement-Security': 10,\n",
       " 'HumanResources': 2,\n",
       " 'Telecommunications': 2}"
      ]
     },
     "execution_count": 40,
     "metadata": {},
     "output_type": "execute_result"
    }
   ],
   "source": [
    "label_counts"
   ]
  },
  {
   "cell_type": "code",
   "execution_count": 41,
   "metadata": {},
   "outputs": [
    {
     "data": {
      "text/plain": [
       "8856            [female, 17, Student, Sagittarius]\n",
       "1545                 [male, 35, Technology, Aries]\n",
       "8136    [female, 25, Communications-Media, Pisces]\n",
       "7768                    [male, 36, Fashion, Aries]\n",
       "7782                    [male, 36, Fashion, Aries]\n",
       "                           ...                    \n",
       "1099                  [female, 15, Student, Libra]\n",
       "2514                 [male, 35, Technology, Aries]\n",
       "6637                    [male, 36, Fashion, Aries]\n",
       "2575                 [male, 35, Technology, Aries]\n",
       "7336                    [male, 36, Fashion, Aries]\n",
       "Name: labels, Length: 8000, dtype: object"
      ]
     },
     "execution_count": 41,
     "metadata": {},
     "output_type": "execute_result"
    }
   ],
   "source": [
    "y_train"
   ]
  },
  {
   "cell_type": "markdown",
   "metadata": {},
   "source": [
    "7. Transform the labels\n",
    "As we have noticed before, in this task each example can have multiple tags. To deal with such kind of prediction, we need to transform labels in a binary form and the prediction will be a mask of 0s and 1s. For this purpose, it is convenient to use MultiLabelBinarizer from sklearn a. Convert your train and test labels using MultiLabelBinarizer"
   ]
  },
  {
   "cell_type": "code",
   "execution_count": 42,
   "metadata": {},
   "outputs": [
    {
     "data": {
      "text/html": [
       "<div>\n",
       "<style scoped>\n",
       "    .dataframe tbody tr th:only-of-type {\n",
       "        vertical-align: middle;\n",
       "    }\n",
       "\n",
       "    .dataframe tbody tr th {\n",
       "        vertical-align: top;\n",
       "    }\n",
       "\n",
       "    .dataframe thead th {\n",
       "        text-align: right;\n",
       "    }\n",
       "</style>\n",
       "<table border=\"1\" class=\"dataframe\">\n",
       "  <thead>\n",
       "    <tr style=\"text-align: right;\">\n",
       "      <th></th>\n",
       "      <th>text</th>\n",
       "      <th>labels</th>\n",
       "    </tr>\n",
       "  </thead>\n",
       "  <tbody>\n",
       "    <tr>\n",
       "      <th>0</th>\n",
       "      <td>info found 100 pages 45 mb pdf files wait unti...</td>\n",
       "      <td>[male, 15, Student, Leo]</td>\n",
       "    </tr>\n",
       "    <tr>\n",
       "      <th>1</th>\n",
       "      <td>team members drewes van der laag urllink mail ...</td>\n",
       "      <td>[male, 15, Student, Leo]</td>\n",
       "    </tr>\n",
       "    <tr>\n",
       "      <th>2</th>\n",
       "      <td>het kader van kernfusie op aarde maak je eigen...</td>\n",
       "      <td>[male, 15, Student, Leo]</td>\n",
       "    </tr>\n",
       "    <tr>\n",
       "      <th>3</th>\n",
       "      <td>testing testing</td>\n",
       "      <td>[male, 15, Student, Leo]</td>\n",
       "    </tr>\n",
       "    <tr>\n",
       "      <th>4</th>\n",
       "      <td>thanks yahoos toolbar capture urls popupswhich...</td>\n",
       "      <td>[male, 33, InvestmentBanking, Aquarius]</td>\n",
       "    </tr>\n",
       "    <tr>\n",
       "      <th>...</th>\n",
       "      <td>...</td>\n",
       "      <td>...</td>\n",
       "    </tr>\n",
       "    <tr>\n",
       "      <th>9995</th>\n",
       "      <td>take home forever may rest sleep arms forgotte...</td>\n",
       "      <td>[female, 25, indUnk, Pisces]</td>\n",
       "    </tr>\n",
       "    <tr>\n",
       "      <th>9996</th>\n",
       "      <td>seductive secretness behind doors warning neve...</td>\n",
       "      <td>[female, 25, indUnk, Pisces]</td>\n",
       "    </tr>\n",
       "    <tr>\n",
       "      <th>9997</th>\n",
       "      <td>kind need holding hand petting hair cry bring ...</td>\n",
       "      <td>[female, 25, indUnk, Pisces]</td>\n",
       "    </tr>\n",
       "    <tr>\n",
       "      <th>9998</th>\n",
       "      <td>blurry outside sounds people mingle pass darkn...</td>\n",
       "      <td>[female, 25, indUnk, Pisces]</td>\n",
       "    </tr>\n",
       "    <tr>\n",
       "      <th>9999</th>\n",
       "      <td>body feels broken mind rejoices thought warmth...</td>\n",
       "      <td>[female, 25, indUnk, Pisces]</td>\n",
       "    </tr>\n",
       "  </tbody>\n",
       "</table>\n",
       "<p>10000 rows × 2 columns</p>\n",
       "</div>"
      ],
      "text/plain": [
       "                                                   text  \\\n",
       "0     info found 100 pages 45 mb pdf files wait unti...   \n",
       "1     team members drewes van der laag urllink mail ...   \n",
       "2     het kader van kernfusie op aarde maak je eigen...   \n",
       "3                                       testing testing   \n",
       "4     thanks yahoos toolbar capture urls popupswhich...   \n",
       "...                                                 ...   \n",
       "9995  take home forever may rest sleep arms forgotte...   \n",
       "9996  seductive secretness behind doors warning neve...   \n",
       "9997  kind need holding hand petting hair cry bring ...   \n",
       "9998  blurry outside sounds people mingle pass darkn...   \n",
       "9999  body feels broken mind rejoices thought warmth...   \n",
       "\n",
       "                                       labels  \n",
       "0                    [male, 15, Student, Leo]  \n",
       "1                    [male, 15, Student, Leo]  \n",
       "2                    [male, 15, Student, Leo]  \n",
       "3                    [male, 15, Student, Leo]  \n",
       "4     [male, 33, InvestmentBanking, Aquarius]  \n",
       "...                                       ...  \n",
       "9995             [female, 25, indUnk, Pisces]  \n",
       "9996             [female, 25, indUnk, Pisces]  \n",
       "9997             [female, 25, indUnk, Pisces]  \n",
       "9998             [female, 25, indUnk, Pisces]  \n",
       "9999             [female, 25, indUnk, Pisces]  \n",
       "\n",
       "[10000 rows x 2 columns]"
      ]
     },
     "execution_count": 42,
     "metadata": {},
     "output_type": "execute_result"
    }
   ],
   "source": [
    "df"
   ]
  },
  {
   "cell_type": "code",
   "execution_count": 43,
   "metadata": {},
   "outputs": [],
   "source": [
    "from sklearn.preprocessing import MultiLabelBinarizer\n",
    "binarizer=MultiLabelBinarizer(classes=sorted(label_counts.keys()))"
   ]
  },
  {
   "cell_type": "code",
   "execution_count": 44,
   "metadata": {},
   "outputs": [
    {
     "data": {
      "text/plain": [
       "array([[1, 1, 0],\n",
       "       [0, 0, 1]])"
      ]
     },
     "execution_count": 44,
     "metadata": {},
     "output_type": "execute_result"
    }
   ],
   "source": [
    "#from sklearn.preprocessing import MultiLabelBinarizer\n",
    "#mlb = MultiLabelBinarizer()\n",
    "#mlb.fit_transform([(1, 2), (3,)])"
   ]
  },
  {
   "cell_type": "code",
   "execution_count": 45,
   "metadata": {},
   "outputs": [
    {
     "data": {
      "text/plain": [
       "array([[0, 1, 1],\n",
       "       [1, 0, 0]])"
      ]
     },
     "execution_count": 45,
     "metadata": {},
     "output_type": "execute_result"
    }
   ],
   "source": [
    "#mlb.fit_transform([{'sci-fi', 'thriller'}, {'comedy'}])"
   ]
  },
  {
   "cell_type": "code",
   "execution_count": 46,
   "metadata": {},
   "outputs": [],
   "source": [
    "y_train = binarizer.fit_transform(y_train)\n",
    "y_test = binarizer.transform(y_test)"
   ]
  },
  {
   "cell_type": "code",
   "execution_count": 47,
   "metadata": {},
   "outputs": [
    {
     "data": {
      "text/plain": [
       "array([[0, 0, 0, ..., 0, 0, 1],\n",
       "       [0, 0, 0, ..., 0, 0, 1],\n",
       "       [0, 0, 0, ..., 0, 0, 1],\n",
       "       ...,\n",
       "       [0, 0, 0, ..., 1, 1, 0],\n",
       "       [0, 0, 0, ..., 1, 1, 0],\n",
       "       [0, 0, 0, ..., 0, 0, 1]])"
      ]
     },
     "execution_count": 47,
     "metadata": {},
     "output_type": "execute_result"
    }
   ],
   "source": [
    "y_test"
   ]
  },
  {
   "cell_type": "code",
   "execution_count": 48,
   "metadata": {},
   "outputs": [
    {
     "name": "stdout",
     "output_type": "stream",
     "text": [
      "(8000, 64)\n",
      "(8000,)\n"
     ]
    }
   ],
   "source": [
    "print(y_train.shape)\n",
    "print(X_train.shape)"
   ]
  },
  {
   "cell_type": "code",
   "execution_count": 49,
   "metadata": {},
   "outputs": [
    {
     "name": "stdout",
     "output_type": "stream",
     "text": [
      "(2000, 566120)\n",
      "(8000, 566120)\n"
     ]
    }
   ],
   "source": [
    "print(X_test_ct.shape)\n",
    "print(X_train_ct.shape)"
   ]
  },
  {
   "cell_type": "markdown",
   "metadata": {},
   "source": [
    "Part A - Q3 D - Build a base model for Supervised Learning - Classification."
   ]
  },
  {
   "cell_type": "code",
   "execution_count": 50,
   "metadata": {},
   "outputs": [],
   "source": [
    "from sklearn.multiclass import OneVsRestClassifier\n",
    "from sklearn.linear_model import LogisticRegression"
   ]
  },
  {
   "cell_type": "code",
   "execution_count": 51,
   "metadata": {},
   "outputs": [
    {
     "data": {
      "text/plain": [
       "OneVsRestClassifier(estimator=LogisticRegression(C=1.0, class_weight=None, dual=False, fit_intercept=True,\n",
       "          intercept_scaling=1, max_iter=100, multi_class='ovr', n_jobs=1,\n",
       "          penalty='l2', random_state=None, solver='lbfgs', tol=0.0001,\n",
       "          verbose=0, warm_start=False),\n",
       "          n_jobs=1)"
      ]
     },
     "execution_count": 51,
     "metadata": {},
     "output_type": "execute_result"
    }
   ],
   "source": [
    "model=LogisticRegression(solver='lbfgs', max_iter=100)\n",
    "model=OneVsRestClassifier(model)\n",
    "model.fit(X_train_ct,y_train)"
   ]
  },
  {
   "cell_type": "code",
   "execution_count": 52,
   "metadata": {},
   "outputs": [],
   "source": [
    "pred=model.predict(X_test_ct)"
   ]
  },
  {
   "cell_type": "code",
   "execution_count": 53,
   "metadata": {},
   "outputs": [
    {
     "data": {
      "text/plain": [
       "array([[0, 0, 0, ..., 0, 0, 1],\n",
       "       [0, 0, 0, ..., 0, 0, 1],\n",
       "       [0, 0, 0, ..., 0, 0, 1],\n",
       "       ...,\n",
       "       [0, 0, 0, ..., 0, 0, 1],\n",
       "       [0, 0, 0, ..., 1, 1, 0],\n",
       "       [0, 0, 0, ..., 0, 0, 1]])"
      ]
     },
     "execution_count": 53,
     "metadata": {},
     "output_type": "execute_result"
    }
   ],
   "source": [
    "pred"
   ]
  },
  {
   "cell_type": "markdown",
   "metadata": {},
   "source": [
    "\n",
    "Part A - Q3 E - Clearly print Performance Metrics."
   ]
  },
  {
   "cell_type": "code",
   "execution_count": 54,
   "metadata": {},
   "outputs": [],
   "source": [
    "from sklearn.metrics import accuracy_score\n",
    "from sklearn.metrics import f1_score\n",
    "from sklearn.metrics import average_precision_score\n",
    "from sklearn.metrics import recall_score\n",
    "\n",
    "def print_evaluation_scores(y_test,pred):\n",
    "    print('Accuracy score: ', accuracy_score(y_test,pred))\n",
    "    print('F1 score: ', f1_score(y_test,pred, average='micro'))\n",
    "    print('Average precision score: ', average_precision_score(y_test,pred, average='micro'))\n",
    "    print('Average recall score: ', recall_score(y_test,pred, average='micro'))"
   ]
  },
  {
   "cell_type": "code",
   "execution_count": 55,
   "metadata": {},
   "outputs": [
    {
     "name": "stdout",
     "output_type": "stream",
     "text": [
      "Accuracy score:  0.317\n",
      "F1 score:  0.6310357537781054\n",
      "Average precision score:  0.44052701033243485\n",
      "Average recall score:  0.535\n"
     ]
    }
   ],
   "source": [
    "print_evaluation_scores(y_test,pred)"
   ]
  },
  {
   "cell_type": "code",
   "execution_count": 56,
   "metadata": {},
   "outputs": [],
   "source": [
    "model=='svm'\n",
    "model = LinearSVC()#C=C, penalty='l1', dual=False, loss='squared_hinge')\n",
    "model = OneVsRestClassifier(model)\n",
    "model.fit(X_train_ct,y_train)\n",
    "pred=model.predict(X_test_ct)  "
   ]
  },
  {
   "cell_type": "code",
   "execution_count": 57,
   "metadata": {},
   "outputs": [
    {
     "name": "stdout",
     "output_type": "stream",
     "text": [
      "Accuracy score:  0.277\n",
      "F1 score:  0.5990886785839468\n",
      "Average precision score:  0.3934134564545092\n",
      "Average recall score:  0.534125\n"
     ]
    }
   ],
   "source": [
    "print_evaluation_scores(y_test,pred)"
   ]
  },
  {
   "cell_type": "markdown",
   "metadata": {},
   "source": [
    "Logistic Regression is performing better than SVC."
   ]
  },
  {
   "cell_type": "markdown",
   "metadata": {},
   "source": [
    "\n",
    "Part A - Q4 A - Experiment with other vectorisers."
   ]
  },
  {
   "cell_type": "code",
   "execution_count": 58,
   "metadata": {},
   "outputs": [],
   "source": [
    "from sklearn.feature_extraction.text import TfidfVectorizer, CountVectorizer"
   ]
  },
  {
   "cell_type": "code",
   "execution_count": 59,
   "metadata": {},
   "outputs": [
    {
     "data": {
      "text/plain": [
       "8856    someone tell got like sit desk work trying ass...\n",
       "1545                     expect life change still waiting\n",
       "8136                urllink look sun reflecting water ahh\n",
       "7768    like good neighbor id like go detail wedding d...\n",
       "7782    dufs looking mighty svelte hes got large melon...\n",
       "                              ...                        \n",
       "1099    wow thats im saying kids wow love show want go...\n",
       "2514           fairly inept terminator though wouldnt say\n",
       "6637    yeah maybe get hands handbook could definitely...\n",
       "2575    thanks guys support tee hee hee theyre kinds s...\n",
       "7336    love bb like used love bbhow long sing songpb ...\n",
       "Name: text, Length: 8000, dtype: object"
      ]
     },
     "execution_count": 59,
     "metadata": {},
     "output_type": "execute_result"
    }
   ],
   "source": [
    "X_train"
   ]
  },
  {
   "cell_type": "code",
   "execution_count": 60,
   "metadata": {},
   "outputs": [
    {
     "data": {
      "text/plain": [
       "59804"
      ]
     },
     "execution_count": 60,
     "metadata": {},
     "output_type": "execute_result"
    }
   ],
   "source": [
    "tfvect = TfidfVectorizer()\n",
    "#Feed SMS data to CountVectorizer\n",
    "tfvect.fit(X_train)\n",
    "\n",
    "#Check the vocablury size\n",
    "len(tfvect.vocabulary_)"
   ]
  },
  {
   "cell_type": "code",
   "execution_count": 61,
   "metadata": {},
   "outputs": [
    {
     "data": {
      "text/plain": [
       "['00',\n",
       " '000',\n",
       " '0000001',\n",
       " '000001',\n",
       " '001',\n",
       " '002',\n",
       " '003',\n",
       " '004',\n",
       " '005',\n",
       " '006',\n",
       " '007',\n",
       " '008',\n",
       " '009',\n",
       " '01',\n",
       " '010',\n",
       " '0100',\n",
       " '0100010001101111011100100110101101111000',\n",
       " '011',\n",
       " '012',\n",
       " '01234',\n",
       " '013',\n",
       " '014',\n",
       " '015',\n",
       " '016',\n",
       " '017',\n",
       " '018',\n",
       " '019',\n",
       " '02',\n",
       " '020',\n",
       " '021',\n",
       " '02182004',\n",
       " '022',\n",
       " '02232004',\n",
       " '023',\n",
       " '024',\n",
       " '025',\n",
       " '025613',\n",
       " '026',\n",
       " '027',\n",
       " '028',\n",
       " '029',\n",
       " '03',\n",
       " '030',\n",
       " '0303',\n",
       " '030303',\n",
       " '0303030303',\n",
       " '031',\n",
       " '03152004',\n",
       " '032',\n",
       " '033',\n",
       " '033100',\n",
       " '034',\n",
       " '035',\n",
       " '036',\n",
       " '037',\n",
       " '038',\n",
       " '039',\n",
       " '03my',\n",
       " '04',\n",
       " '040',\n",
       " '041',\n",
       " '042',\n",
       " '043',\n",
       " '0430',\n",
       " '044',\n",
       " '045',\n",
       " '045090',\n",
       " '046',\n",
       " '047',\n",
       " '048',\n",
       " '049',\n",
       " '04but',\n",
       " '04yet',\n",
       " '05',\n",
       " '050',\n",
       " '051',\n",
       " '051304',\n",
       " '051704',\n",
       " '052',\n",
       " '0525',\n",
       " '05292004',\n",
       " '053',\n",
       " '0530',\n",
       " '054',\n",
       " '055',\n",
       " '056',\n",
       " '057',\n",
       " '058',\n",
       " '059',\n",
       " '06',\n",
       " '060',\n",
       " '0600',\n",
       " '060404',\n",
       " '061',\n",
       " '062',\n",
       " '063',\n",
       " '064',\n",
       " '065',\n",
       " '066',\n",
       " '067',\n",
       " '068',\n",
       " '069',\n",
       " '06th',\n",
       " '07',\n",
       " '070',\n",
       " '0700',\n",
       " '07072004',\n",
       " '071',\n",
       " '072',\n",
       " '07262004',\n",
       " '073',\n",
       " '074',\n",
       " '074114',\n",
       " '0745',\n",
       " '074658',\n",
       " '075',\n",
       " '076',\n",
       " '077',\n",
       " '078',\n",
       " '079',\n",
       " '08',\n",
       " '080',\n",
       " '0800',\n",
       " '081',\n",
       " '082',\n",
       " '083',\n",
       " '0830am',\n",
       " '084',\n",
       " '0845',\n",
       " '085',\n",
       " '086',\n",
       " '087',\n",
       " '088',\n",
       " '089',\n",
       " '09',\n",
       " '090',\n",
       " '091',\n",
       " '091103',\n",
       " '0915',\n",
       " '092',\n",
       " '093',\n",
       " '094',\n",
       " '095',\n",
       " '096',\n",
       " '097',\n",
       " '098',\n",
       " '099',\n",
       " '0nbsp',\n",
       " '0o',\n",
       " '10',\n",
       " '100',\n",
       " '1000',\n",
       " '10000',\n",
       " '100000',\n",
       " '1000000',\n",
       " '10000000000',\n",
       " '1000020000',\n",
       " '10000th',\n",
       " '100010',\n",
       " '10001600',\n",
       " '1000pm',\n",
       " '1000th',\n",
       " '100145',\n",
       " '1003',\n",
       " '100am',\n",
       " '100days',\n",
       " '100kg',\n",
       " '100m',\n",
       " '100nbsp',\n",
       " '100night',\n",
       " '100peeercent',\n",
       " '100plus',\n",
       " '100pm',\n",
       " '100pre',\n",
       " '100something',\n",
       " '100th',\n",
       " '100x',\n",
       " '101',\n",
       " '1010pm',\n",
       " '1011',\n",
       " '10112000',\n",
       " '1012',\n",
       " '1015',\n",
       " '10152003',\n",
       " '1015am',\n",
       " '1016',\n",
       " '101st',\n",
       " '102',\n",
       " '1020',\n",
       " '10203',\n",
       " '1022002',\n",
       " '102203',\n",
       " '1027',\n",
       " '103',\n",
       " '1030',\n",
       " '10301130',\n",
       " '1030am',\n",
       " '1030amnot',\n",
       " '1030pm',\n",
       " '1031',\n",
       " '1031821',\n",
       " '1033',\n",
       " '104',\n",
       " '10400',\n",
       " '1045',\n",
       " '1045am',\n",
       " '1045pm',\n",
       " '105',\n",
       " '1050',\n",
       " '105pm',\n",
       " '106',\n",
       " '1065',\n",
       " '1067',\n",
       " '10689',\n",
       " '107',\n",
       " '1075',\n",
       " '108',\n",
       " '109',\n",
       " '1095',\n",
       " '10950000',\n",
       " '10am',\n",
       " '10ambut',\n",
       " '10commitment',\n",
       " '10day',\n",
       " '10do',\n",
       " '10fold',\n",
       " '10freakin45',\n",
       " '10its',\n",
       " '10just',\n",
       " '10k',\n",
       " '10m',\n",
       " '10midnight',\n",
       " '10mile',\n",
       " '10min',\n",
       " '10month',\n",
       " '10p',\n",
       " '10pm',\n",
       " '10pmet',\n",
       " '10share',\n",
       " '10string',\n",
       " '10th',\n",
       " '10thats',\n",
       " '10wordsorless',\n",
       " '10x',\n",
       " '10year',\n",
       " '11',\n",
       " '110',\n",
       " '1100',\n",
       " '11000',\n",
       " '110000',\n",
       " '11001130',\n",
       " '11001300ad',\n",
       " '11003',\n",
       " '1100th',\n",
       " '1105',\n",
       " '1108',\n",
       " '1109',\n",
       " '110th',\n",
       " '111',\n",
       " '1110',\n",
       " '111059',\n",
       " '1111',\n",
       " '1112',\n",
       " '111308',\n",
       " '111313',\n",
       " '111315',\n",
       " '111318',\n",
       " '111398',\n",
       " '1115',\n",
       " '1115am',\n",
       " '1115pm',\n",
       " '112',\n",
       " '1122',\n",
       " '11227th',\n",
       " '1122mbps',\n",
       " '1127am',\n",
       " '112850',\n",
       " '113',\n",
       " '1130',\n",
       " '113012so',\n",
       " '1130am',\n",
       " '1130nvmstill',\n",
       " '1130pm',\n",
       " '1130pm730am',\n",
       " '1138',\n",
       " '114',\n",
       " '1140',\n",
       " '11400',\n",
       " '1145',\n",
       " '1145pm',\n",
       " '1145pmnbsp',\n",
       " '114641',\n",
       " '1147',\n",
       " '1148',\n",
       " '1149',\n",
       " '115',\n",
       " '1150',\n",
       " '1150am',\n",
       " '1153',\n",
       " '1155',\n",
       " '1155pm',\n",
       " '1157',\n",
       " '115pmnbsp',\n",
       " '116',\n",
       " '116th',\n",
       " '117',\n",
       " '118',\n",
       " '119',\n",
       " '119am',\n",
       " '11am',\n",
       " '11am1pm',\n",
       " '11hour',\n",
       " '11if',\n",
       " '11nbspfuck',\n",
       " '11p',\n",
       " '11pm',\n",
       " '11s',\n",
       " '11so',\n",
       " '11th',\n",
       " '12',\n",
       " '120',\n",
       " '1200',\n",
       " '12000',\n",
       " '120000',\n",
       " '12001230',\n",
       " '1200capacity',\n",
       " '1205',\n",
       " '1208',\n",
       " '120gb',\n",
       " '120gig',\n",
       " '120ish',\n",
       " '121',\n",
       " '121148',\n",
       " '1212',\n",
       " '1213',\n",
       " '121322',\n",
       " '1215',\n",
       " '1215am',\n",
       " '1218',\n",
       " '122',\n",
       " '1220',\n",
       " '1222',\n",
       " '1223',\n",
       " '12272002',\n",
       " '123',\n",
       " '1230',\n",
       " '1230ami',\n",
       " '1234',\n",
       " '1236',\n",
       " '124',\n",
       " '1240',\n",
       " '1242',\n",
       " '1245',\n",
       " '1245he',\n",
       " '1248',\n",
       " '124956',\n",
       " '124am',\n",
       " '125',\n",
       " '1250',\n",
       " '1250pmnbsp',\n",
       " '125th',\n",
       " '126',\n",
       " '127',\n",
       " '128',\n",
       " '1280',\n",
       " '128mb',\n",
       " '129',\n",
       " '1295',\n",
       " '12am',\n",
       " '12er',\n",
       " '12hour',\n",
       " '12if',\n",
       " '12k',\n",
       " '12milewide',\n",
       " '12month',\n",
       " '12step',\n",
       " '12string',\n",
       " '12strings',\n",
       " '12th',\n",
       " '12yearold',\n",
       " '13',\n",
       " '130',\n",
       " '1300',\n",
       " '13000',\n",
       " '130000',\n",
       " '13000acre',\n",
       " '130150',\n",
       " '130330',\n",
       " '13068480',\n",
       " '130amnbsp',\n",
       " '130degree',\n",
       " '130ish',\n",
       " '130nbsp',\n",
       " '130pm',\n",
       " '131',\n",
       " '1311',\n",
       " '1314',\n",
       " '1317',\n",
       " '1318',\n",
       " '132',\n",
       " '133',\n",
       " '1330',\n",
       " '134',\n",
       " '1345876',\n",
       " '135',\n",
       " '135th',\n",
       " '136',\n",
       " '1369022',\n",
       " '137',\n",
       " '1376',\n",
       " '138',\n",
       " '139',\n",
       " '13921910',\n",
       " '1394',\n",
       " '1399',\n",
       " '13fttall',\n",
       " '13hour',\n",
       " '13if',\n",
       " '13nbsp',\n",
       " '13rd',\n",
       " '13th',\n",
       " '13without',\n",
       " '13yearold',\n",
       " '14',\n",
       " '140',\n",
       " '1400',\n",
       " '14000',\n",
       " '140000',\n",
       " '141',\n",
       " '1410',\n",
       " '1415',\n",
       " '141beta',\n",
       " '141pm',\n",
       " '141st',\n",
       " '142',\n",
       " '1424',\n",
       " '143',\n",
       " '143958',\n",
       " '143rd',\n",
       " '144',\n",
       " '1441',\n",
       " '145',\n",
       " '1450',\n",
       " '1453',\n",
       " '145976',\n",
       " '145th',\n",
       " '146',\n",
       " '147',\n",
       " '147cm',\n",
       " '148',\n",
       " '149',\n",
       " '1491',\n",
       " '1499',\n",
       " '14if',\n",
       " '14k',\n",
       " '14th',\n",
       " '14yearold',\n",
       " '15',\n",
       " '150',\n",
       " '1500',\n",
       " '15000',\n",
       " '150000',\n",
       " '1500s',\n",
       " '151',\n",
       " '1512',\n",
       " '1513',\n",
       " '1514',\n",
       " '152',\n",
       " '1520',\n",
       " '152nd',\n",
       " '153',\n",
       " '1530',\n",
       " '1535',\n",
       " '154',\n",
       " '155',\n",
       " '156',\n",
       " '15651961',\n",
       " '157',\n",
       " '158',\n",
       " '1581',\n",
       " '159',\n",
       " '1590s',\n",
       " '15937',\n",
       " '159495',\n",
       " '1595',\n",
       " '15last',\n",
       " '15months',\n",
       " '15monthswe',\n",
       " '15page',\n",
       " '15s',\n",
       " '15th',\n",
       " '15year',\n",
       " '15yearold',\n",
       " '16',\n",
       " '160',\n",
       " '1600',\n",
       " '16000',\n",
       " '1600s',\n",
       " '1603',\n",
       " '16089',\n",
       " '1609',\n",
       " '161',\n",
       " '1619',\n",
       " '162',\n",
       " '1620',\n",
       " '1623',\n",
       " '163',\n",
       " '164',\n",
       " '164306',\n",
       " '165',\n",
       " '1650',\n",
       " '1651',\n",
       " '1654',\n",
       " '166',\n",
       " '167',\n",
       " '168',\n",
       " '169',\n",
       " '16a',\n",
       " '16km',\n",
       " '16mbon',\n",
       " '16piece',\n",
       " '16th',\n",
       " '16v',\n",
       " '16x',\n",
       " '16year',\n",
       " '16yrs',\n",
       " '17',\n",
       " '170',\n",
       " '1700',\n",
       " '17000',\n",
       " '1700s',\n",
       " '171',\n",
       " '1717',\n",
       " '172',\n",
       " '173',\n",
       " '173233',\n",
       " '174',\n",
       " '175',\n",
       " '1750',\n",
       " '176',\n",
       " '177',\n",
       " '1776',\n",
       " '178',\n",
       " '1789',\n",
       " '179',\n",
       " '1790',\n",
       " '1793',\n",
       " '179855',\n",
       " '17april',\n",
       " '17first',\n",
       " '17in160in',\n",
       " '17th',\n",
       " '17year',\n",
       " '18',\n",
       " '180',\n",
       " '1800',\n",
       " '180000',\n",
       " '1800s',\n",
       " '1802',\n",
       " '180204',\n",
       " '1804',\n",
       " '1805',\n",
       " '1806',\n",
       " '180euros',\n",
       " '181',\n",
       " '1810',\n",
       " '1812',\n",
       " '1816',\n",
       " '1817',\n",
       " '182',\n",
       " '1820',\n",
       " '1820s',\n",
       " '1822',\n",
       " '1823',\n",
       " '1824',\n",
       " '1825',\n",
       " '182nbsp',\n",
       " '183',\n",
       " '1830',\n",
       " '1838',\n",
       " '184',\n",
       " '1840',\n",
       " '18400',\n",
       " '1842',\n",
       " '1847',\n",
       " '1848',\n",
       " '185',\n",
       " '18501870',\n",
       " '1856',\n",
       " '18561950',\n",
       " '186',\n",
       " '1860',\n",
       " '1861',\n",
       " '18611865',\n",
       " '1862',\n",
       " '1863',\n",
       " '18631877',\n",
       " '1866',\n",
       " '1868',\n",
       " '187',\n",
       " '1874426',\n",
       " '1877',\n",
       " '188',\n",
       " '1883',\n",
       " '189',\n",
       " '1895',\n",
       " '18anyone',\n",
       " '18mile',\n",
       " '18remember',\n",
       " '18something',\n",
       " '18th',\n",
       " '18year',\n",
       " '19',\n",
       " '190',\n",
       " '1900',\n",
       " '1900s',\n",
       " '1900snbsp',\n",
       " '1902',\n",
       " '1903',\n",
       " '1905',\n",
       " '1906',\n",
       " '1909',\n",
       " '191',\n",
       " '1910',\n",
       " '19101945',\n",
       " '1911',\n",
       " '1913',\n",
       " '1918',\n",
       " '192',\n",
       " '1920',\n",
       " '19200',\n",
       " '1920s',\n",
       " '1920sstyle',\n",
       " '1924',\n",
       " '1925',\n",
       " '192742',\n",
       " '1928',\n",
       " '193',\n",
       " '1936',\n",
       " '194',\n",
       " '1940',\n",
       " '1940s',\n",
       " '1941',\n",
       " '1943',\n",
       " '1944',\n",
       " '1945',\n",
       " '1946',\n",
       " '1947',\n",
       " '1948',\n",
       " '195',\n",
       " '1950',\n",
       " '19503',\n",
       " '1950s',\n",
       " '1954',\n",
       " '1955',\n",
       " '1956',\n",
       " '1957',\n",
       " '1959',\n",
       " '196',\n",
       " '1960',\n",
       " '1960s',\n",
       " '1960sstyled',\n",
       " '1961',\n",
       " '19611979',\n",
       " '1963',\n",
       " '1964',\n",
       " '1967',\n",
       " '1968',\n",
       " '1969',\n",
       " '197',\n",
       " '1970',\n",
       " '1970s',\n",
       " '1971',\n",
       " '1972',\n",
       " '1973',\n",
       " '1975',\n",
       " '1976',\n",
       " '1977',\n",
       " '1978',\n",
       " '1979',\n",
       " '198',\n",
       " '1980',\n",
       " '19801onward',\n",
       " '1980s',\n",
       " '1981',\n",
       " '1982',\n",
       " '1983',\n",
       " '1984',\n",
       " '1986',\n",
       " '19861346',\n",
       " '1987',\n",
       " '1988',\n",
       " '1989',\n",
       " '199',\n",
       " '1990',\n",
       " '1990s',\n",
       " '1991',\n",
       " '1992',\n",
       " '1993',\n",
       " '1994',\n",
       " '1995',\n",
       " '1996',\n",
       " '1997',\n",
       " '19972000',\n",
       " '1998',\n",
       " '1999',\n",
       " '19march',\n",
       " '19overrated',\n",
       " '19th',\n",
       " '19yearold',\n",
       " '1a01',\n",
       " '1a07',\n",
       " '1a07nbspand',\n",
       " '1alternate',\n",
       " '1am',\n",
       " '1b',\n",
       " '1birth',\n",
       " '1br',\n",
       " '1ce',\n",
       " '1cl',\n",
       " '1cosmonoxmi',\n",
       " '1debates',\n",
       " '1english',\n",
       " '1erase',\n",
       " '1funny',\n",
       " '1gallon',\n",
       " '1ghz',\n",
       " '1go',\n",
       " '1hit',\n",
       " '1hitter',\n",
       " '1i',\n",
       " '1ile',\n",
       " '1ish',\n",
       " '1kotemenmen',\n",
       " '1kuwait',\n",
       " '1learning',\n",
       " '1m',\n",
       " '1mb',\n",
       " '1min',\n",
       " '1nbsp',\n",
       " '1never',\n",
       " '1new',\n",
       " '1nomatter',\n",
       " '1north',\n",
       " '1notre',\n",
       " '1pm',\n",
       " '1poorly',\n",
       " '1s',\n",
       " '1s24',\n",
       " '1st',\n",
       " '1the',\n",
       " '1u',\n",
       " '1usd',\n",
       " '1year',\n",
       " '1year3months',\n",
       " '1½',\n",
       " '20',\n",
       " '200',\n",
       " '2000',\n",
       " '20000',\n",
       " '200000',\n",
       " '20002001',\n",
       " '2000s',\n",
       " '2001',\n",
       " '2002',\n",
       " '2002man',\n",
       " '2002s',\n",
       " '2003',\n",
       " '20031117',\n",
       " '2003nbsp',\n",
       " '2004',\n",
       " '20040522',\n",
       " '2004especially',\n",
       " '2004nbsp',\n",
       " '2005',\n",
       " '2006',\n",
       " '2007',\n",
       " '2008',\n",
       " '20082011',\n",
       " '2009',\n",
       " '200and',\n",
       " '200m',\n",
       " '200month',\n",
       " '200pm',\n",
       " '201',\n",
       " '2010',\n",
       " '202',\n",
       " '2020',\n",
       " '2022',\n",
       " '20225',\n",
       " '2025',\n",
       " '2025and',\n",
       " '2026',\n",
       " '203',\n",
       " '2030',\n",
       " '20341',\n",
       " '204',\n",
       " '205',\n",
       " '2050',\n",
       " '206',\n",
       " '2060',\n",
       " '2062',\n",
       " '207',\n",
       " '208',\n",
       " '2081',\n",
       " '2087341',\n",
       " '209',\n",
       " '20february',\n",
       " '20firewire',\n",
       " '20minute',\n",
       " '20month',\n",
       " '20ppl',\n",
       " '20s',\n",
       " '20s30s',\n",
       " '20something',\n",
       " '20somethings',\n",
       " '20th',\n",
       " '20thand',\n",
       " '20thcentury',\n",
       " '20yearold',\n",
       " '20years',\n",
       " '21',\n",
       " '210',\n",
       " '211',\n",
       " '2110',\n",
       " '211th',\n",
       " '212',\n",
       " '21200',\n",
       " '212th',\n",
       " '213',\n",
       " '214',\n",
       " '215',\n",
       " '2150',\n",
       " '216',\n",
       " '21600',\n",
       " '217',\n",
       " '218',\n",
       " '219',\n",
       " '21a',\n",
       " '21b',\n",
       " '21st',\n",
       " '21stcentury',\n",
       " '21year',\n",
       " '21yearold',\n",
       " '22',\n",
       " '220',\n",
       " '2200',\n",
       " '22000',\n",
       " '221',\n",
       " '2214',\n",
       " '222',\n",
       " '2220',\n",
       " '223',\n",
       " '2230',\n",
       " '2230234550300',\n",
       " '224',\n",
       " '225',\n",
       " '2252003',\n",
       " '2253',\n",
       " '225pm',\n",
       " '226',\n",
       " '22600',\n",
       " '227',\n",
       " '228',\n",
       " '229',\n",
       " '22dec',\n",
       " '22dom',\n",
       " '22nd',\n",
       " '23',\n",
       " '230',\n",
       " '2300',\n",
       " '23000',\n",
       " '23003',\n",
       " '230330',\n",
       " '2306pm',\n",
       " '230am',\n",
       " '230pm',\n",
       " '230thats',\n",
       " '231',\n",
       " '232',\n",
       " '2325',\n",
       " '233',\n",
       " '2335',\n",
       " '234',\n",
       " '235',\n",
       " '236',\n",
       " '237',\n",
       " '238',\n",
       " '239',\n",
       " '23hr',\n",
       " '23rd',\n",
       " '23year',\n",
       " '23yearold',\n",
       " '24',\n",
       " '240',\n",
       " '2400',\n",
       " '2403',\n",
       " '240piercing',\n",
       " '241',\n",
       " '242',\n",
       " '2425',\n",
       " '243',\n",
       " '2430',\n",
       " '244',\n",
       " '245',\n",
       " '24500',\n",
       " '246',\n",
       " '2465',\n",
       " '247',\n",
       " '247365',\n",
       " '247and',\n",
       " '249',\n",
       " '24ghz',\n",
       " '24hour',\n",
       " '24hours',\n",
       " '24th',\n",
       " '25',\n",
       " '250',\n",
       " '2500',\n",
       " '25000',\n",
       " '250000',\n",
       " '250night',\n",
       " '252',\n",
       " '2530',\n",
       " '2531',\n",
       " '2535which',\n",
       " '255',\n",
       " '2550',\n",
       " '256',\n",
       " '256mb',\n",
       " '258',\n",
       " '25are',\n",
       " '25th',\n",
       " '25yearold',\n",
       " '26',\n",
       " '260',\n",
       " '2600',\n",
       " '261',\n",
       " '261988',\n",
       " '264000',\n",
       " '2652',\n",
       " '2661222',\n",
       " '267',\n",
       " '268',\n",
       " '269',\n",
       " '269269',\n",
       " '26th',\n",
       " '26things',\n",
       " '26yearold',\n",
       " '27',\n",
       " '270',\n",
       " '27000',\n",
       " '272',\n",
       " '273',\n",
       " '274',\n",
       " '275',\n",
       " '279',\n",
       " '27th',\n",
       " '27yearold',\n",
       " '28',\n",
       " '280',\n",
       " '280504',\n",
       " '281',\n",
       " '282',\n",
       " '283',\n",
       " '2830',\n",
       " '284',\n",
       " '285',\n",
       " '286',\n",
       " '287',\n",
       " '288',\n",
       " '28th',\n",
       " '28yearold',\n",
       " '29',\n",
       " '290',\n",
       " '29000',\n",
       " '291',\n",
       " '292',\n",
       " '2935',\n",
       " '294',\n",
       " '295',\n",
       " '295242',\n",
       " '296',\n",
       " '297',\n",
       " '297240',\n",
       " '299',\n",
       " '29th',\n",
       " '2am',\n",
       " '2b',\n",
       " '2beauborg',\n",
       " '2bedroom',\n",
       " '2billion',\n",
       " '2can',\n",
       " '2cd',\n",
       " '2cl',\n",
       " '2cnxactually',\n",
       " '2d',\n",
       " '2d2n',\n",
       " '2day',\n",
       " '2dayabout',\n",
       " ...]"
      ]
     },
     "execution_count": 61,
     "metadata": {},
     "output_type": "execute_result"
    }
   ],
   "source": [
    "tfvect.get_feature_names()"
   ]
  },
  {
   "cell_type": "code",
   "execution_count": 62,
   "metadata": {},
   "outputs": [],
   "source": [
    "X_train_tf = tfvect.transform(X_train)"
   ]
  },
  {
   "cell_type": "code",
   "execution_count": 63,
   "metadata": {},
   "outputs": [
    {
     "data": {
      "text/plain": [
       "scipy.sparse.csr.csr_matrix"
      ]
     },
     "execution_count": 63,
     "metadata": {},
     "output_type": "execute_result"
    }
   ],
   "source": [
    "type(X_train_tf)"
   ]
  },
  {
   "cell_type": "code",
   "execution_count": 64,
   "metadata": {},
   "outputs": [],
   "source": [
    "X_test_tf = tfvect.transform(X_test)"
   ]
  },
  {
   "cell_type": "code",
   "execution_count": 65,
   "metadata": {},
   "outputs": [
    {
     "data": {
      "text/plain": [
       "['00', '000', '0000001', '000001', '001', '002', '003', '004', '005', '006']"
      ]
     },
     "execution_count": 65,
     "metadata": {},
     "output_type": "execute_result"
    }
   ],
   "source": [
    "tfvect.get_feature_names()[:10]"
   ]
  },
  {
   "cell_type": "code",
   "execution_count": 66,
   "metadata": {},
   "outputs": [
    {
     "data": {
      "text/plain": [
       "array([[0, 0, 0, ..., 1, 0, 0],\n",
       "       [0, 0, 0, ..., 0, 0, 1],\n",
       "       [0, 0, 0, ..., 1, 0, 0],\n",
       "       ...,\n",
       "       [0, 0, 0, ..., 0, 0, 1],\n",
       "       [0, 0, 0, ..., 0, 0, 1],\n",
       "       [0, 0, 0, ..., 0, 0, 1]])"
      ]
     },
     "execution_count": 66,
     "metadata": {},
     "output_type": "execute_result"
    }
   ],
   "source": [
    "y_train"
   ]
  },
  {
   "cell_type": "code",
   "execution_count": 67,
   "metadata": {},
   "outputs": [
    {
     "data": {
      "text/plain": [
       "OneVsRestClassifier(estimator=LogisticRegression(C=1.0, class_weight=None, dual=False, fit_intercept=True,\n",
       "          intercept_scaling=1, max_iter=100, multi_class='ovr', n_jobs=1,\n",
       "          penalty='l2', random_state=None, solver='lbfgs', tol=0.0001,\n",
       "          verbose=0, warm_start=False),\n",
       "          n_jobs=1)"
      ]
     },
     "execution_count": 67,
     "metadata": {},
     "output_type": "execute_result"
    }
   ],
   "source": [
    "model=LogisticRegression(solver='lbfgs', max_iter=100)\n",
    "model=OneVsRestClassifier(model)\n",
    "model.fit(X_train_tf,y_train)"
   ]
  },
  {
   "cell_type": "code",
   "execution_count": 68,
   "metadata": {},
   "outputs": [],
   "source": [
    "pred=model.predict(X_test_tf)"
   ]
  },
  {
   "cell_type": "code",
   "execution_count": 69,
   "metadata": {},
   "outputs": [
    {
     "data": {
      "text/plain": [
       "array([[0, 0, 0, ..., 0, 0, 1],\n",
       "       [0, 0, 0, ..., 1, 0, 0],\n",
       "       [0, 0, 0, ..., 0, 0, 1],\n",
       "       ...,\n",
       "       [0, 0, 0, ..., 0, 0, 1],\n",
       "       [0, 0, 0, ..., 1, 1, 0],\n",
       "       [0, 0, 0, ..., 0, 0, 1]])"
      ]
     },
     "execution_count": 69,
     "metadata": {},
     "output_type": "execute_result"
    }
   ],
   "source": [
    "pred"
   ]
  },
  {
   "cell_type": "code",
   "execution_count": 70,
   "metadata": {},
   "outputs": [
    {
     "name": "stdout",
     "output_type": "stream",
     "text": [
      "Accuracy score:  0.1525\n",
      "F1 score:  0.5343959731543624\n",
      "Average precision score:  0.36109375\n",
      "Average recall score:  0.398125\n"
     ]
    }
   ],
   "source": [
    "print_evaluation_scores(y_test,pred)"
   ]
  },
  {
   "cell_type": "code",
   "execution_count": 71,
   "metadata": {},
   "outputs": [],
   "source": [
    "model=='svm'\n",
    "model = LinearSVC()#C=C, penalty='l1', dual=False, loss='squared_hinge')\n",
    "model = OneVsRestClassifier(model)\n",
    "model.fit(X_train_tf,y_train)\n",
    "pred=model.predict(X_test_tf)  "
   ]
  },
  {
   "cell_type": "code",
   "execution_count": 72,
   "metadata": {},
   "outputs": [
    {
     "name": "stdout",
     "output_type": "stream",
     "text": [
      "Accuracy score:  0.334\n",
      "F1 score:  0.6573405759357095\n",
      "Average precision score:  0.47637169200450447\n",
      "Average recall score:  0.552125\n"
     ]
    }
   ],
   "source": [
    "print_evaluation_scores(y_test,pred)"
   ]
  },
  {
   "cell_type": "markdown",
   "metadata": {},
   "source": [
    "tfidf is performing better than count vectorizer"
   ]
  },
  {
   "cell_type": "markdown",
   "metadata": {},
   "source": [
    "Part A - Q4 C - Tune Parameters/Hyperparameters of the model/s.\n",
    "\n",
    "Part A - Q4 D - Clearly print Performance Metrics."
   ]
  },
  {
   "cell_type": "code",
   "execution_count": 73,
   "metadata": {},
   "outputs": [
    {
     "name": "stdout",
     "output_type": "stream",
     "text": [
      "OneVsRestClassifier(estimator=LogisticRegression(C=100, class_weight=None, dual=False, fit_intercept=True,\n",
      "          intercept_scaling=1, max_iter=100, multi_class='ovr', n_jobs=1,\n",
      "          penalty='l2', random_state=None, solver='liblinear', tol=0.0001,\n",
      "          verbose=0, warm_start=False),\n",
      "          n_jobs=1)\n"
     ]
    }
   ],
   "source": [
    "from sklearn.model_selection import GridSearchCV\n",
    "from sklearn.linear_model import LogisticRegression\n",
    "from sklearn.multiclass import OneVsRestClassifier\n",
    "tuned_parameters = [{'estimator__C': [100, 10, 1, 0.1, 0.01, 0.001, 0.0001]}]\n",
    "\n",
    "\n",
    "# Find Optimal C by grid search \n",
    "\n",
    "log_reg_clf = OneVsRestClassifier(LogisticRegression())\n",
    "\n",
    "logistic_gs = GridSearchCV(log_reg_clf, tuned_parameters,scoring = 'f1_micro', cv=3)\n",
    "\n",
    "logistic_gs.fit(X_train_tf, y_train)\n",
    "print(logistic_gs.best_estimator_)"
   ]
  },
  {
   "cell_type": "code",
   "execution_count": 74,
   "metadata": {},
   "outputs": [
    {
     "data": {
      "text/plain": [
       "OneVsRestClassifier(estimator=LogisticRegression(C=100, class_weight=None, dual=False, fit_intercept=True,\n",
       "          intercept_scaling=1, max_iter=100, multi_class='ovr', n_jobs=1,\n",
       "          penalty='l2', random_state=None, solver='liblinear', tol=0.0001,\n",
       "          verbose=0, warm_start=False),\n",
       "          n_jobs=1)"
      ]
     },
     "execution_count": 74,
     "metadata": {},
     "output_type": "execute_result"
    }
   ],
   "source": [
    "model=LogisticRegression(solver='lbfgs', max_iter=100)\n",
    "model=OneVsRestClassifier(estimator=LogisticRegression(C=100, class_weight=None, dual=False, fit_intercept=True,\n",
    "          intercept_scaling=1, max_iter=100, multi_class='ovr', n_jobs=1,\n",
    "          penalty='l2', random_state=None, solver='liblinear', tol=0.0001,\n",
    "          verbose=0, warm_start=False),\n",
    "          n_jobs=1)\n",
    "model.fit(X_train_tf,y_train)"
   ]
  },
  {
   "cell_type": "code",
   "execution_count": 75,
   "metadata": {},
   "outputs": [],
   "source": [
    "pred=model.predict(X_test_tf)"
   ]
  },
  {
   "cell_type": "code",
   "execution_count": 76,
   "metadata": {},
   "outputs": [
    {
     "data": {
      "text/plain": [
       "array([[0, 0, 0, ..., 0, 0, 1],\n",
       "       [0, 0, 0, ..., 1, 0, 0],\n",
       "       [0, 0, 0, ..., 0, 0, 1],\n",
       "       ...,\n",
       "       [0, 0, 0, ..., 0, 0, 1],\n",
       "       [0, 0, 0, ..., 1, 1, 0],\n",
       "       [0, 0, 0, ..., 0, 0, 1]])"
      ]
     },
     "execution_count": 76,
     "metadata": {},
     "output_type": "execute_result"
    }
   ],
   "source": [
    "pred"
   ]
  },
  {
   "cell_type": "code",
   "execution_count": 77,
   "metadata": {},
   "outputs": [
    {
     "name": "stdout",
     "output_type": "stream",
     "text": [
      "Accuracy score:  0.3235\n",
      "F1 score:  0.655068633927916\n",
      "Average precision score:  0.4702300790280989\n",
      "Average recall score:  0.55775\n"
     ]
    }
   ],
   "source": [
    "print_evaluation_scores(y_test,pred)"
   ]
  },
  {
   "cell_type": "code",
   "execution_count": 80,
   "metadata": {},
   "outputs": [
    {
     "name": "stdout",
     "output_type": "stream",
     "text": [
      "0.23610000000000003\n"
     ]
    }
   ],
   "source": [
    "\n",
    "from sklearn.svm import SVC\n",
    "from sklearn.multiclass import OneVsRestClassifier\n",
    "\n",
    "model_to_set = OneVsRestClassifier(SVC(kernel=\"poly\"))\n",
    "\n",
    "parameters = {\n",
    "    \"estimator__C\": [1,2,4,8],\n",
    "    \"estimator__kernel\": [\"poly\",\"rbf\"],\n",
    "    \"estimator__degree\":[1, 2, 3, 4],\n",
    "}\n",
    "\n",
    "model_tunning = GridSearchCV(model_to_set, param_grid=parameters,scoring = 'f1_micro', cv=3)\n",
    "\n",
    "model_tunning.fit(X_train_tf, y_train)\n",
    "\n",
    "print(model_tunning.best_score_)"
   ]
  },
  {
   "cell_type": "code",
   "execution_count": 81,
   "metadata": {},
   "outputs": [
    {
     "name": "stdout",
     "output_type": "stream",
     "text": [
      "OneVsRestClassifier(estimator=SVC(C=1, cache_size=200, class_weight=None, coef0=0.0,\n",
      "  decision_function_shape='ovr', degree=1, gamma='auto', kernel='poly',\n",
      "  max_iter=-1, probability=False, random_state=None, shrinking=True,\n",
      "  tol=0.001, verbose=False),\n",
      "          n_jobs=1)\n"
     ]
    }
   ],
   "source": [
    "print(model_tunning.best_estimator_)"
   ]
  },
  {
   "cell_type": "code",
   "execution_count": 89,
   "metadata": {},
   "outputs": [
    {
     "data": {
      "text/plain": [
       "OneVsRestClassifier(estimator=LinearSVC(C=1.0, class_weight=None, dual=True, fit_intercept=True,\n",
       "     intercept_scaling=1, loss='squared_hinge', max_iter=1000,\n",
       "     multi_class='ovr', penalty='l2', random_state=None, tol=0.0001,\n",
       "     verbose=0),\n",
       "          n_jobs=1)"
      ]
     },
     "execution_count": 89,
     "metadata": {},
     "output_type": "execute_result"
    }
   ],
   "source": [
    "model=='svm'\n",
    "#model = LinearSVC()#C=C, penalty='l1', dual=False, loss='squared_hinge')\n",
    "model = OneVsRestClassifier(estimator=LinearSVC(C=1.0, class_weight=None, dual=True, fit_intercept=True,\n",
    "     intercept_scaling=1, loss='squared_hinge', max_iter=1000,\n",
    "     multi_class='ovr', penalty='l2', random_state=None, tol=0.0001,\n",
    "     verbose=0),\n",
    "          n_jobs=1)\n",
    "model.fit(X_train_tf,y_train)"
   ]
  },
  {
   "cell_type": "code",
   "execution_count": 90,
   "metadata": {},
   "outputs": [],
   "source": [
    "pred=model.predict(X_test_tf)  "
   ]
  },
  {
   "cell_type": "code",
   "execution_count": 91,
   "metadata": {},
   "outputs": [
    {
     "name": "stdout",
     "output_type": "stream",
     "text": [
      "Accuracy score:  0.334\n",
      "F1 score:  0.6573405759357095\n",
      "Average precision score:  0.47637169200450447\n",
      "Average recall score:  0.552125\n"
     ]
    }
   ],
   "source": [
    "print_evaluation_scores(y_test,pred)"
   ]
  },
  {
   "cell_type": "markdown",
   "metadata": {},
   "source": [
    "\n",
    "Part A - Q5 A - Which vectorizer performed better? Probable reason?.\n",
    "\n",
    "Part A - Q5 B - Which model outperformed? Probable reason?\n",
    "\n",
    "Part A - Q5 C - Which parameter/hyperparameter significantly helped to improve performance? Probable reason?.\n",
    "\n",
    "Part A - Q5 D - According to you, which performance metric should be given most importance, why?."
   ]
  },
  {
   "cell_type": "markdown",
   "metadata": {},
   "source": [
    "TF-IDF is better than Count Vectorizers because it not only focuses on the frequency of words present in the corpus but also provides the importance of the words. We can then remove the words that are less important for analysis, hence making the model building less complex by reducing the input dimensions."
   ]
  },
  {
   "cell_type": "markdown",
   "metadata": {},
   "source": [
    "SVM and logistic regression are performing comparable. Both are having similar performance ."
   ]
  },
  {
   "cell_type": "markdown",
   "metadata": {},
   "source": [
    "\n",
    "Accuracy can be used when the class distribution is similar while F1-score is a better metric when there are imbalanced classes as in the above case.\n",
    "So, F1-score is a better metric to evaluate our model on."
   ]
  },
  {
   "cell_type": "markdown",
   "metadata": {},
   "source": [
    "\n",
    "The parameter C is most important as it is the inverse of regularization strength in Logistic Regression.\n",
    "It is a penalty term which controls Overfitting."
   ]
  },
  {
   "cell_type": "markdown",
   "metadata": {},
   "source": [
    "C is the most important hypermeter which is set before the training model and  used to control error."
   ]
  },
  {
   "cell_type": "markdown",
   "metadata": {},
   "source": [
    "Print the true vs predicted labels for any 5 entries from the datase"
   ]
  },
  {
   "cell_type": "code",
   "execution_count": 103,
   "metadata": {},
   "outputs": [
    {
     "name": "stdout",
     "output_type": "stream",
     "text": [
      "('35', 'Aries', 'Technology', 'male')\n",
      "('35', 'Aries', 'Technology', 'male')\n"
     ]
    }
   ],
   "source": [
    "print(binarizer.inverse_transform(pred)[200])\n",
    "print(binarizer.inverse_transform(y_test)[200])"
   ]
  },
  {
   "cell_type": "code",
   "execution_count": 104,
   "metadata": {},
   "outputs": [
    {
     "name": "stdout",
     "output_type": "stream",
     "text": [
      "('Aries', 'male')\n",
      "('27', 'Pisces', 'Technology', 'male')\n"
     ]
    }
   ],
   "source": [
    "print(binarizer.inverse_transform(pred)[300])\n",
    "print(binarizer.inverse_transform(y_test)[300])"
   ]
  },
  {
   "cell_type": "code",
   "execution_count": 106,
   "metadata": {},
   "outputs": [
    {
     "name": "stdout",
     "output_type": "stream",
     "text": [
      "('36', 'Aries', 'Fashion', 'male')\n",
      "('36', 'Aries', 'Fashion', 'male')\n"
     ]
    }
   ],
   "source": [
    "print(binarizer.inverse_transform(pred)[400])\n",
    "print(binarizer.inverse_transform(y_test)[400])"
   ]
  },
  {
   "cell_type": "code",
   "execution_count": 107,
   "metadata": {},
   "outputs": [
    {
     "name": "stdout",
     "output_type": "stream",
     "text": [
      "('female', 'indUnk')\n",
      "('35', 'Aries', 'Technology', 'male')\n"
     ]
    }
   ],
   "source": [
    "print(binarizer.inverse_transform(pred)[500])\n",
    "print(binarizer.inverse_transform(y_test)[500])"
   ]
  },
  {
   "cell_type": "code",
   "execution_count": 108,
   "metadata": {},
   "outputs": [
    {
     "name": "stdout",
     "output_type": "stream",
     "text": [
      "('35', 'Aries', 'Technology', 'male')\n",
      "('35', 'Aries', 'Technology', 'male')\n"
     ]
    }
   ],
   "source": [
    "print(binarizer.inverse_transform(pred)[600])\n",
    "print(binarizer.inverse_transform(y_test)[600])"
   ]
  }
 ],
 "metadata": {
  "kernelspec": {
   "display_name": "Python 3",
   "language": "python",
   "name": "python3"
  },
  "language_info": {
   "codemirror_mode": {
    "name": "ipython",
    "version": 3
   },
   "file_extension": ".py",
   "mimetype": "text/x-python",
   "name": "python",
   "nbconvert_exporter": "python",
   "pygments_lexer": "ipython3",
   "version": "3.7.6"
  }
 },
 "nbformat": 4,
 "nbformat_minor": 2
}
